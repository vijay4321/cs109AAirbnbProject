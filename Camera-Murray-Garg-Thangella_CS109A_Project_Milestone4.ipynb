{
 "cells": [
  {
   "cell_type": "markdown",
   "metadata": {
    "nbpresent": {
     "id": "9ef47cbc-677e-47aa-9d6b-c7a942c77b37"
    }
   },
   "source": [
    "# CS 109A/AC 209A/STAT 121A Data Science: Airbnb Project\n",
    "## Milestone #4 - Baseline Model\n",
    "**Harvard University**  \n",
    "**Fall 2016**  \n",
    "**Team**: Stephen Camera-Murray, Himani Garg, and Vijay Thangella  \n",
    "**TF**: Christine Hwang  \n",
    "  \n",
    "**Due Date: ** Monday, November 28th, 2016 at 11:59pm"
   ]
  },
  {
   "cell_type": "markdown",
   "metadata": {},
   "source": [
    "### Baseline Model"
   ]
  },
  {
   "cell_type": "markdown",
   "metadata": {},
   "source": [
    "#### Import libraries"
   ]
  },
  {
   "cell_type": "code",
   "execution_count": 1,
   "metadata": {
    "collapsed": false
   },
   "outputs": [],
   "source": [
    "# import libraries\n",
    "import warnings\n",
    "import numpy as np\n",
    "import pandas as pd\n",
    "import matplotlib\n",
    "import matplotlib.pyplot as plt\n",
    "import seaborn as sns\n",
    "from sklearn.model_selection import train_test_split\n",
    "from sklearn.metrics import f1_score\n",
    "import random\n",
    "from sklearn.linear_model import LogisticRegression\n",
    "\n",
    "# suppress warnings\n",
    "warnings.filterwarnings ( 'ignore' )\n",
    "%matplotlib inline"
   ]
  },
  {
   "cell_type": "markdown",
   "metadata": {},
   "source": [
    "#### Load the cleansed data"
   ]
  },
  {
   "cell_type": "markdown",
   "metadata": {},
   "source": [
    "We begin by loading the listings dataset we saved after cleansing from milestone #3:  \n",
    "- cleansed_listings.csv.gz - the New York City Airbnb listing data from January 2015 (cleansed)  \n",
    "  \n",
    "**Note** - The baseline model is ignoring seasonality for now. If we can later determine that seasonality plays a large enough part in price prediction, we'll include it in our final model."
   ]
  },
  {
   "cell_type": "code",
   "execution_count": 2,
   "metadata": {
    "collapsed": false
   },
   "outputs": [
    {
     "data": {
      "text/html": [
       "<div>\n",
       "<table border=\"1\" class=\"dataframe\">\n",
       "  <thead>\n",
       "    <tr style=\"text-align: right;\">\n",
       "      <th></th>\n",
       "      <th>name</th>\n",
       "      <th>neighborhood</th>\n",
       "      <th>property_type</th>\n",
       "      <th>room_type</th>\n",
       "      <th>accommodates</th>\n",
       "      <th>bathrooms</th>\n",
       "      <th>bedrooms</th>\n",
       "      <th>beds</th>\n",
       "      <th>bed_type</th>\n",
       "      <th>square_feet</th>\n",
       "      <th>...</th>\n",
       "      <th>review_scores_accuracy</th>\n",
       "      <th>review_scores_cleanliness</th>\n",
       "      <th>review_scores_checkin</th>\n",
       "      <th>review_scores_communication</th>\n",
       "      <th>review_scores_location</th>\n",
       "      <th>review_scores_value</th>\n",
       "      <th>host_listing_count</th>\n",
       "      <th>months_as_host</th>\n",
       "      <th>months_since_first_review</th>\n",
       "      <th>months_since_last_review</th>\n",
       "    </tr>\n",
       "    <tr>\n",
       "      <th>id</th>\n",
       "      <th></th>\n",
       "      <th></th>\n",
       "      <th></th>\n",
       "      <th></th>\n",
       "      <th></th>\n",
       "      <th></th>\n",
       "      <th></th>\n",
       "      <th></th>\n",
       "      <th></th>\n",
       "      <th></th>\n",
       "      <th></th>\n",
       "      <th></th>\n",
       "      <th></th>\n",
       "      <th></th>\n",
       "      <th></th>\n",
       "      <th></th>\n",
       "      <th></th>\n",
       "      <th></th>\n",
       "      <th></th>\n",
       "      <th></th>\n",
       "      <th></th>\n",
       "    </tr>\n",
       "  </thead>\n",
       "  <tbody>\n",
       "    <tr>\n",
       "      <th>1069266</th>\n",
       "      <td>Stay like a real New Yorker!</td>\n",
       "      <td>Midtown East</td>\n",
       "      <td>Apartment</td>\n",
       "      <td>Entire home/apt</td>\n",
       "      <td>2</td>\n",
       "      <td>1.0</td>\n",
       "      <td>1.0</td>\n",
       "      <td>1.0</td>\n",
       "      <td>Real Bed</td>\n",
       "      <td>NaN</td>\n",
       "      <td>...</td>\n",
       "      <td>9.0</td>\n",
       "      <td>7.0</td>\n",
       "      <td>9.0</td>\n",
       "      <td>9.0</td>\n",
       "      <td>10.0</td>\n",
       "      <td>9.0</td>\n",
       "      <td>1</td>\n",
       "      <td>21</td>\n",
       "      <td>21</td>\n",
       "      <td>1</td>\n",
       "    </tr>\n",
       "    <tr>\n",
       "      <th>2061725</th>\n",
       "      <td>Option of 2 Beds w Private Bathroom</td>\n",
       "      <td>Bushwick</td>\n",
       "      <td>Apartment</td>\n",
       "      <td>Private room</td>\n",
       "      <td>2</td>\n",
       "      <td>1.0</td>\n",
       "      <td>1.0</td>\n",
       "      <td>2.0</td>\n",
       "      <td>Real Bed</td>\n",
       "      <td>NaN</td>\n",
       "      <td>...</td>\n",
       "      <td>10.0</td>\n",
       "      <td>10.0</td>\n",
       "      <td>10.0</td>\n",
       "      <td>10.0</td>\n",
       "      <td>9.0</td>\n",
       "      <td>10.0</td>\n",
       "      <td>4</td>\n",
       "      <td>24</td>\n",
       "      <td>11</td>\n",
       "      <td>1</td>\n",
       "    </tr>\n",
       "  </tbody>\n",
       "</table>\n",
       "<p>2 rows × 30 columns</p>\n",
       "</div>"
      ],
      "text/plain": [
       "                                        name  neighborhood property_type  \\\n",
       "id                                                                         \n",
       "1069266        Stay like a real New Yorker!   Midtown East     Apartment   \n",
       "2061725  Option of 2 Beds w Private Bathroom      Bushwick     Apartment   \n",
       "\n",
       "               room_type  accommodates  bathrooms  bedrooms  beds  bed_type  \\\n",
       "id                                                                            \n",
       "1069266  Entire home/apt             2        1.0       1.0   1.0  Real Bed   \n",
       "2061725     Private room             2        1.0       1.0   2.0  Real Bed   \n",
       "\n",
       "         square_feet            ...             review_scores_accuracy  \\\n",
       "id                              ...                                      \n",
       "1069266          NaN            ...                                9.0   \n",
       "2061725          NaN            ...                               10.0   \n",
       "\n",
       "         review_scores_cleanliness  review_scores_checkin  \\\n",
       "id                                                          \n",
       "1069266                        7.0                    9.0   \n",
       "2061725                       10.0                   10.0   \n",
       "\n",
       "         review_scores_communication  review_scores_location  \\\n",
       "id                                                             \n",
       "1069266                          9.0                    10.0   \n",
       "2061725                         10.0                     9.0   \n",
       "\n",
       "         review_scores_value  host_listing_count  months_as_host  \\\n",
       "id                                                                 \n",
       "1069266                  9.0                   1              21   \n",
       "2061725                 10.0                   4              24   \n",
       "\n",
       "         months_since_first_review  months_since_last_review  \n",
       "id                                                            \n",
       "1069266                         21                         1  \n",
       "2061725                         11                         1  \n",
       "\n",
       "[2 rows x 30 columns]"
      ]
     },
     "execution_count": 2,
     "metadata": {},
     "output_type": "execute_result"
    }
   ],
   "source": [
    "# load listings data into a pandas df\n",
    "listingsDF = pd.read_csv (  './datasets/cleansed_listings.tab.gz', sep = '\\t', index_col = 'id', compression = 'gzip' )\n",
    "\n",
    "# display the first two rows\n",
    "listingsDF.head ( n = 2 )"
   ]
  },
  {
   "cell_type": "code",
   "execution_count": 3,
   "metadata": {
    "collapsed": false
   },
   "outputs": [
    {
     "name": "stdout",
     "output_type": "stream",
     "text": [
      "The listings dataframe has 19526 listings and 30 columns.\n"
     ]
    }
   ],
   "source": [
    "print ( 'The listings dataframe has {0} listings and {1} columns.' ).format ( listingsDF.shape [ 0 ], listingsDF.shape [ 1 ] )"
   ]
  },
  {
   "cell_type": "markdown",
   "metadata": {},
   "source": [
    "The cleansed listings dataframe is the main dataset we'll be using for our baseline prediction. It has 19,526 listings and 31 columns. The columns are listed below."
   ]
  },
  {
   "cell_type": "code",
   "execution_count": 4,
   "metadata": {
    "collapsed": false
   },
   "outputs": [
    {
     "name": "stdout",
     "output_type": "stream",
     "text": [
      "['name' 'neighborhood' 'property_type' 'room_type' 'accommodates'\n",
      " 'bathrooms' 'bedrooms' 'beds' 'bed_type' 'square_feet' 'price'\n",
      " 'guests_included' 'minimum_nights' 'maximum_nights' 'availability_30'\n",
      " 'availability_60' 'availability_90' 'availability_365' 'number_of_reviews'\n",
      " 'review_scores_rating' 'review_scores_accuracy'\n",
      " 'review_scores_cleanliness' 'review_scores_checkin'\n",
      " 'review_scores_communication' 'review_scores_location'\n",
      " 'review_scores_value' 'host_listing_count' 'months_as_host'\n",
      " 'months_since_first_review' 'months_since_last_review']\n"
     ]
    }
   ],
   "source": [
    "print listingsDF.columns.values"
   ]
  },
  {
   "cell_type": "markdown",
   "metadata": {},
   "source": [
    "Keeping in mind that our goal is to provide pricing guidance to new owners who wish to list their property, we've come up with three price groupings based on our data to have a nice balance between the groups **and** user-friendly ranges. As we can see from the distribution below (filtering out the handful of \\$1000+ listings to improve the visualization) for one bedroom listings, there's a wide range. We'll create a new target variable to identify each listing for one of three categories:  \n",
    "- Low: Up to \\$125  \n",
    "- Mid: \\$125 - \\$250  \n",
    "- High: Over \\$250  \n",
    "  \n",
    "**Note**: The distribution is different than in milestone #3. We discovered an error we made on the price column while cleansing the data and have since corrected it. Our price ranges have been updated as well."
   ]
  },
  {
   "cell_type": "code",
   "execution_count": 5,
   "metadata": {
    "collapsed": false
   },
   "outputs": [
    {
     "data": {
      "image/png": "[encoded data removed]",
      "text/plain": [
       "<matplotlib.figure.Figure at 0xcb20208>"
      ]
     },
     "metadata": {},
     "output_type": "display_data"
    }
   ],
   "source": [
    "# set up visualization\n",
    "sns.set ( rc = { \"figure.figsize\" : ( 7, 4 ) } )\n",
    "\n",
    "# plot the histogram of prices - filtering out the extreme highs\n",
    "ax = sns.distplot ( listingsDF [ \"price\" ] [ listingsDF [ \"price\" ] < 1000 ] )\n",
    "\n",
    "# set the labels\n",
    "ax.set_title  ( \"Price for One Bedroom Listings\" )\n",
    "ax.set_xlabel ( \"Price\" )\n",
    "ax.set_ylabel ( \"Distribution\" )\n",
    "\n",
    "ax.set_xlim ( 0, 1000 )\n",
    "\n",
    "# set our price grouping cutoffs\n",
    "plt.axvline ( 125, color = 'r', linestyle = 'dashed', linewidth = 2 )\n",
    "plt.axvline ( 250, color = 'r', linestyle = 'dashed', linewidth = 2 )\n",
    "\n",
    "# display the visualization\n",
    "plt.show()"
   ]
  },
  {
   "cell_type": "markdown",
   "metadata": {},
   "source": [
    "Now, let's create a price category column and drop the price column."
   ]
  },
  {
   "cell_type": "code",
   "execution_count": 6,
   "metadata": {
    "collapsed": false,
    "scrolled": false
   },
   "outputs": [
    {
     "data": {
      "text/html": [
       "<div>\n",
       "<table border=\"1\" class=\"dataframe\">\n",
       "  <thead>\n",
       "    <tr style=\"text-align: right;\">\n",
       "      <th></th>\n",
       "      <th>name</th>\n",
       "      <th>neighborhood</th>\n",
       "      <th>property_type</th>\n",
       "      <th>room_type</th>\n",
       "      <th>accommodates</th>\n",
       "      <th>bathrooms</th>\n",
       "      <th>bedrooms</th>\n",
       "      <th>beds</th>\n",
       "      <th>bed_type</th>\n",
       "      <th>square_feet</th>\n",
       "      <th>...</th>\n",
       "      <th>review_scores_cleanliness</th>\n",
       "      <th>review_scores_checkin</th>\n",
       "      <th>review_scores_communication</th>\n",
       "      <th>review_scores_location</th>\n",
       "      <th>review_scores_value</th>\n",
       "      <th>host_listing_count</th>\n",
       "      <th>months_as_host</th>\n",
       "      <th>months_since_first_review</th>\n",
       "      <th>months_since_last_review</th>\n",
       "      <th>price_category</th>\n",
       "    </tr>\n",
       "    <tr>\n",
       "      <th>id</th>\n",
       "      <th></th>\n",
       "      <th></th>\n",
       "      <th></th>\n",
       "      <th></th>\n",
       "      <th></th>\n",
       "      <th></th>\n",
       "      <th></th>\n",
       "      <th></th>\n",
       "      <th></th>\n",
       "      <th></th>\n",
       "      <th></th>\n",
       "      <th></th>\n",
       "      <th></th>\n",
       "      <th></th>\n",
       "      <th></th>\n",
       "      <th></th>\n",
       "      <th></th>\n",
       "      <th></th>\n",
       "      <th></th>\n",
       "      <th></th>\n",
       "      <th></th>\n",
       "    </tr>\n",
       "  </thead>\n",
       "  <tbody>\n",
       "    <tr>\n",
       "      <th>1069266</th>\n",
       "      <td>Stay like a real New Yorker!</td>\n",
       "      <td>Midtown East</td>\n",
       "      <td>Apartment</td>\n",
       "      <td>Entire home/apt</td>\n",
       "      <td>2</td>\n",
       "      <td>1.0</td>\n",
       "      <td>1.0</td>\n",
       "      <td>1.0</td>\n",
       "      <td>Real Bed</td>\n",
       "      <td>NaN</td>\n",
       "      <td>...</td>\n",
       "      <td>7.0</td>\n",
       "      <td>9.0</td>\n",
       "      <td>9.0</td>\n",
       "      <td>10.0</td>\n",
       "      <td>9.0</td>\n",
       "      <td>1</td>\n",
       "      <td>21</td>\n",
       "      <td>21</td>\n",
       "      <td>1</td>\n",
       "      <td>Mid</td>\n",
       "    </tr>\n",
       "    <tr>\n",
       "      <th>2061725</th>\n",
       "      <td>Option of 2 Beds w Private Bathroom</td>\n",
       "      <td>Bushwick</td>\n",
       "      <td>Apartment</td>\n",
       "      <td>Private room</td>\n",
       "      <td>2</td>\n",
       "      <td>1.0</td>\n",
       "      <td>1.0</td>\n",
       "      <td>2.0</td>\n",
       "      <td>Real Bed</td>\n",
       "      <td>NaN</td>\n",
       "      <td>...</td>\n",
       "      <td>10.0</td>\n",
       "      <td>10.0</td>\n",
       "      <td>10.0</td>\n",
       "      <td>9.0</td>\n",
       "      <td>10.0</td>\n",
       "      <td>4</td>\n",
       "      <td>24</td>\n",
       "      <td>11</td>\n",
       "      <td>1</td>\n",
       "      <td>Low</td>\n",
       "    </tr>\n",
       "  </tbody>\n",
       "</table>\n",
       "<p>2 rows × 30 columns</p>\n",
       "</div>"
      ],
      "text/plain": [
       "                                        name  neighborhood property_type  \\\n",
       "id                                                                         \n",
       "1069266        Stay like a real New Yorker!   Midtown East     Apartment   \n",
       "2061725  Option of 2 Beds w Private Bathroom      Bushwick     Apartment   \n",
       "\n",
       "               room_type  accommodates  bathrooms  bedrooms  beds  bed_type  \\\n",
       "id                                                                            \n",
       "1069266  Entire home/apt             2        1.0       1.0   1.0  Real Bed   \n",
       "2061725     Private room             2        1.0       1.0   2.0  Real Bed   \n",
       "\n",
       "         square_feet       ...        review_scores_cleanliness  \\\n",
       "id                         ...                                    \n",
       "1069266          NaN       ...                              7.0   \n",
       "2061725          NaN       ...                             10.0   \n",
       "\n",
       "         review_scores_checkin  review_scores_communication  \\\n",
       "id                                                            \n",
       "1069266                    9.0                          9.0   \n",
       "2061725                   10.0                         10.0   \n",
       "\n",
       "         review_scores_location  review_scores_value  host_listing_count  \\\n",
       "id                                                                         \n",
       "1069266                    10.0                  9.0                   1   \n",
       "2061725                     9.0                 10.0                   4   \n",
       "\n",
       "         months_as_host  months_since_first_review  months_since_last_review  \\\n",
       "id                                                                             \n",
       "1069266              21                         21                         1   \n",
       "2061725              24                         11                         1   \n",
       "\n",
       "         price_category  \n",
       "id                       \n",
       "1069266             Mid  \n",
       "2061725             Low  \n",
       "\n",
       "[2 rows x 30 columns]"
      ]
     },
     "execution_count": 6,
     "metadata": {},
     "output_type": "execute_result"
    }
   ],
   "source": [
    "# create the price_category column based on our ranges\n",
    "listingsDF [ \"price_category\" ] = \"Low\"\n",
    "listingsDF [ \"price_category\" ][ ( listingsDF [ \"price\" ] >= 125 ) & ( listingsDF [ \"price\" ] <= 300 ) ] = \"Mid\"\n",
    "listingsDF [ \"price_category\" ][ ( listingsDF [ \"price\" ] >  250 ) ] = \"High\"\n",
    "\n",
    "# drop the price column\n",
    "listingsDF.drop ( [ 'price' ], axis = 1, inplace = True )\n",
    "\n",
    "# display the first two rows\n",
    "listingsDF.head ( n = 2 )"
   ]
  },
  {
   "cell_type": "markdown",
   "metadata": {},
   "source": [
    "Now let's see what the distribution is among the price categories."
   ]
  },
  {
   "cell_type": "code",
   "execution_count": 7,
   "metadata": {
    "collapsed": false
   },
   "outputs": [
    {
     "data": {
      "image/png": "[encoded data removed]",
      "text/plain": [
       "<matplotlib.figure.Figure at 0xcb05ef0>"
      ]
     },
     "metadata": {},
     "output_type": "display_data"
    }
   ],
   "source": [
    "# set up visualization\n",
    "sns.set ( rc = { \"figure.figsize\" : ( 4, 3 ) } )\n",
    "ax = plt.axes()\n",
    "\n",
    "# create a barplot of the price categories\n",
    "ax = sns.barplot ( x = listingsDF.price_category.value_counts().index\n",
    "                 , y = listingsDF.price_category.value_counts() )\n",
    "\n",
    "# set the labels\n",
    "ax.set_title  ( \"Price Categories for One Bedroom Listings\" )\n",
    "ax.set_xlabel ( \"Price Category\" )\n",
    "ax.set_ylabel ( \"Number of Listings\" )\n",
    "\n",
    "# display the visualization\n",
    "plt.show()"
   ]
  },
  {
   "cell_type": "markdown",
   "metadata": {},
   "source": [
    "We can see from the visualization that we have a reasonable number of listings in each category.  \n",
    "  \n",
    "Save the new dataset."
   ]
  },
  {
   "cell_type": "code",
   "execution_count": 16,
   "metadata": {
    "collapsed": true
   },
   "outputs": [],
   "source": [
    "# save the listings dataframe as a tab-delimited, compressed file\n",
    "listingsDF.to_csv ( './datasets/cleansed_listings_with_target.tab.gz', sep = '\\t', index = True, compression = 'gzip' )"
   ]
  },
  {
   "cell_type": "markdown",
   "metadata": {},
   "source": [
    "Split our dataframe into train and test and separate our predictors from the target."
   ]
  },
  {
   "cell_type": "code",
   "execution_count": 9,
   "metadata": {
    "collapsed": false
   },
   "outputs": [],
   "source": [
    "# split our dataframe into train and test\n",
    "train, test = train_test_split ( listingsDF, train_size = 0.6 )\n",
    "\n",
    "# separate x's and y's\n",
    "x_train = train.drop ( \"price_category\", axis = 1 )\n",
    "x_test  = test.drop  ( \"price_category\", axis = 1 )\n",
    "y_train = train [ \"price_category\" ]\n",
    "y_test  = test  [ \"price_category\" ]"
   ]
  },
  {
   "cell_type": "markdown",
   "metadata": {},
   "source": [
    "#### Establishing a baseline model  \n",
    "  \n",
    "Before we begin model building, we need to establish a baseline model to compare against our final model. Our goal is to provide pricing guidance to new owners who wish to list their property, we come up with three price groupings based on our data to have a nice balance between the groups and user-friendly ranges.  \n",
    "  \n",
    "We'll use the following models for our baselines (note: our baselines are intentionally very simple and don't use logistic regression, LDA, QDA, etc. as outlined in lab 10):\n",
    "- Random selection\n",
    "- Low model (choose \"Low\" category only)\n",
    "- Mid model (choose \"Mid\" category only)\n",
    "- High model (choose \"High\" category only)  \n",
    "\n",
    "These models will be applied to our testing dataset. But first, let's look at the proportion of listings in the test set that fall in to each price category."
   ]
  },
  {
   "cell_type": "code",
   "execution_count": 10,
   "metadata": {
    "collapsed": false
   },
   "outputs": [
    {
     "name": "stdout",
     "output_type": "stream",
     "text": [
      "Percentage of listings with the price category Low: 55.3%, Mid: 38.5%, High: 6.2%\n"
     ]
    }
   ],
   "source": [
    "# fetch the number of listings in the test dataset\n",
    "num_listings = y_test.shape [ 0 ]\n",
    "\n",
    "# print the price category percentages\n",
    "print ( 'Percentage of listings with the price category Low: {0:.1f}%, Mid: {1:.1f}%, High: {2:.1f}%' ).format ( 100.0 * y_test.value_counts() [ 0 ] / num_listings, 100.0 * y_test.value_counts() [ 1 ] / num_listings, 100.0 * y_test.value_counts() [ 2 ] / num_listings )"
   ]
  },
  {
   "cell_type": "markdown",
   "metadata": {},
   "source": [
    "Create a function to score our models."
   ]
  },
  {
   "cell_type": "code",
   "execution_count": 11,
   "metadata": {
    "collapsed": false
   },
   "outputs": [],
   "source": [
    "# function to compute the accuracy of a given model\n",
    "score = lambda model, x_test, y_test: pd.Series ( [ model.score ( x_test, y_test ), \n",
    "                                                    model.score ( x_test [ y_test == \"Low\" ],  y_test [ y_test == \"Low\" ]  ),\n",
    "                                                    model.score ( x_test [ y_test == \"Mid\" ],  y_test [ y_test == \"Mid\" ]  ),\n",
    "                                                    model.score ( x_test [ y_test == \"High\" ], y_test [ y_test == \"High\" ] ),\n",
    "                                                    f1_score    ( y_test, model.predict ( x_test ), average = \"weighted\" ) ],\n",
    "                                                    index = [ 'Overall Accuracy', 'Accuracy on Low Category', 'Accuracy on Mid Category', 'Accuracy on High Category', 'F1 Score'  ])"
   ]
  },
  {
   "cell_type": "markdown",
   "metadata": {},
   "source": [
    "Create functions for our baseline models."
   ]
  },
  {
   "cell_type": "code",
   "execution_count": 12,
   "metadata": {
    "collapsed": true
   },
   "outputs": [],
   "source": [
    "# model predicting random values\n",
    "class random_model ( object ):\n",
    "    def predict ( self, x ):\n",
    "        cats = [ \"Low\", \"Mid\", \"High\" ]\n",
    "        return np.random.choice ( cats, len ( x ), replace = True )\n",
    "\n",
    "    def score ( self, x, y ):\n",
    "        y_pred = self.predict ( x )\n",
    "        return ( y_pred == y ).sum() * 1. / len ( y )\n",
    "\n",
    "# model predicting Low\n",
    "class low_model ( object ):\n",
    "    def predict ( self, x ):\n",
    "        return np.array ( [ \"Low\" ] * len ( x ) )\n",
    "    def score ( self, x, y ):\n",
    "        y_pred = self.predict ( x )\n",
    "        return ( y_pred == y ).sum() * 1. / len ( y )\n",
    "\n",
    "# model predicting Mid\n",
    "class mid_model ( object ):\n",
    "    def predict ( self, x ):\n",
    "        return np.array ( [ \"Mid\" ] * len ( x ) )\n",
    "    def score ( self, x, y ):\n",
    "        y_pred = self.predict ( x )\n",
    "        return ( y_pred == y ).sum() * 1. / len ( y )\n",
    "\n",
    "# model predicting High\n",
    "class high_model ( object ):\n",
    "    def predict ( self, x ):\n",
    "        return np.array ( [ \"High\" ] * len ( x ) )\n",
    "    def score ( self, x, y ):\n",
    "        y_pred = self.predict ( x )\n",
    "        return ( y_pred == y ).sum() * 1. / len ( y )"
   ]
  },
  {
   "cell_type": "markdown",
   "metadata": {},
   "source": [
    "Build our models and score."
   ]
  },
  {
   "cell_type": "code",
   "execution_count": 13,
   "metadata": {
    "collapsed": false
   },
   "outputs": [
    {
     "data": {
      "text/html": [
       "<div>\n",
       "<table border=\"1\" class=\"dataframe\">\n",
       "  <thead>\n",
       "    <tr style=\"text-align: right;\">\n",
       "      <th></th>\n",
       "      <th>High Model</th>\n",
       "      <th>Low Model</th>\n",
       "      <th>Mid Model</th>\n",
       "      <th>Random Model</th>\n",
       "    </tr>\n",
       "  </thead>\n",
       "  <tbody>\n",
       "    <tr>\n",
       "      <th>Overall Accuracy</th>\n",
       "      <td>0.061964</td>\n",
       "      <td>0.552682</td>\n",
       "      <td>0.385354</td>\n",
       "      <td>0.328127</td>\n",
       "    </tr>\n",
       "    <tr>\n",
       "      <th>Accuracy on Low Category</th>\n",
       "      <td>0.000000</td>\n",
       "      <td>1.000000</td>\n",
       "      <td>0.000000</td>\n",
       "      <td>0.317350</td>\n",
       "    </tr>\n",
       "    <tr>\n",
       "      <th>Accuracy on Mid Category</th>\n",
       "      <td>0.000000</td>\n",
       "      <td>0.000000</td>\n",
       "      <td>1.000000</td>\n",
       "      <td>0.331229</td>\n",
       "    </tr>\n",
       "    <tr>\n",
       "      <th>Accuracy on High Category</th>\n",
       "      <td>1.000000</td>\n",
       "      <td>0.000000</td>\n",
       "      <td>0.000000</td>\n",
       "      <td>0.369835</td>\n",
       "    </tr>\n",
       "    <tr>\n",
       "      <th>F1 Score</th>\n",
       "      <td>0.007231</td>\n",
       "      <td>0.393458</td>\n",
       "      <td>0.214382</td>\n",
       "      <td>0.367906</td>\n",
       "    </tr>\n",
       "  </tbody>\n",
       "</table>\n",
       "</div>"
      ],
      "text/plain": [
       "                           High Model  Low Model  Mid Model  Random Model\n",
       "Overall Accuracy             0.061964   0.552682   0.385354      0.328127\n",
       "Accuracy on Low Category     0.000000   1.000000   0.000000      0.317350\n",
       "Accuracy on Mid Category     0.000000   0.000000   1.000000      0.331229\n",
       "Accuracy on High Category    1.000000   0.000000   0.000000      0.369835\n",
       "F1 Score                     0.007231   0.393458   0.214382      0.367906"
      ]
     },
     "execution_count": 13,
     "metadata": {},
     "output_type": "execute_result"
    }
   ],
   "source": [
    "# build and score our baseline models\n",
    "random              = random_model()\n",
    "random_model_scores = score ( random, x_test, y_test )\n",
    "\n",
    "low                 = low_model()\n",
    "low_model_scores    = score ( low, x_test, y_test )\n",
    "\n",
    "mid                 = mid_model()\n",
    "mid_model_scores    = score ( mid, x_test, y_test )\n",
    "\n",
    "high                = high_model()\n",
    "high_model_scores   = score ( high, x_test, y_test )\n",
    "\n",
    "# print scores\n",
    "scoreDF = pd.DataFrame ( { 'Random Model'              : random_model_scores,\n",
    "                           'Low Model'                 : low_model_scores,\n",
    "                           'Mid Model'                 : mid_model_scores,\n",
    "                           'High Model'                : high_model_scores } )\n",
    "scoreDF"
   ]
  },
  {
   "cell_type": "markdown",
   "metadata": {},
   "source": [
    "#### Summary"
   ]
  },
  {
   "cell_type": "code",
   "execution_count": 15,
   "metadata": {
    "collapsed": false
   },
   "outputs": [
    {
     "data": {
      "image/png": "[encoded data removed]",
      "text/plain": [
       "<matplotlib.figure.Figure at 0xeab9eb8>"
      ]
     },
     "metadata": {},
     "output_type": "display_data"
    }
   ],
   "source": [
    "# set up visualization\n",
    "sns.set ( rc = { \"figure.figsize\" : ( 9, 9 ) } )\n",
    "sns.set_palette ( palette = \"GnBu_d\" )\n",
    "ax = plt.axes()\n",
    "\n",
    "# reformat the score data so it's friendlier to seaborn\n",
    "scoreplotDF = pd.concat ( [ pd.DataFrame ( { \"Score Type\": np.tile ( scoreDF.index.values, 4 ) } ), pd.melt ( scoreDF, var_name = \"Model\", value_name = \"Score\" ) ], axis = 1 )\n",
    "\n",
    "# create a barplot of the price categories\n",
    "ax = sns.barplot ( x = \"Model\", y = \"Score\", hue = \"Score Type\", data = scoreplotDF )\n",
    "\n",
    "# set the labels\n",
    "ax.set_title  ( \"Baseline Model Scores\" )\n",
    "ax.set_xlabel ( \"Model Type\" )\n",
    "ax.set_ylabel ( \"Score\" )\n",
    "\n",
    "# display the visualization\n",
    "plt.show()"
   ]
  },
  {
   "cell_type": "markdown",
   "metadata": {},
   "source": [
    "As mentioned earlier, we chose very simple baselines based on what was done in lab 10 and will pursue more advanced models later in the project. Our baselines perform as expected with the overall accuracy of each price category following the distribution of the test dataset and the random model with very similar accuracies for all score types."
   ]
  }
 ],
 "metadata": {
  "anaconda-cloud": {},
  "kernelspec": {
   "display_name": "Python [conda root]",
   "language": "python",
   "name": "conda-root-py"
  },
  "language_info": {
   "codemirror_mode": {
    "name": "ipython",
    "version": 2
   },
   "file_extension": ".py",
   "mimetype": "text/x-python",
   "name": "python",
   "nbconvert_exporter": "python",
   "pygments_lexer": "ipython2",
   "version": "2.7.12"
  },
  "nbpresent": {
   "slides": {
    "07eab611-d137-4a40-a1a9-63f35002630e": {
     "id": "07eab611-d137-4a40-a1a9-63f35002630e",
     "prev": "4f208bb3-6e39-445f-ad0f-825572264acf",
     "regions": {
      "25db14dd-17a3-44bd-b489-851242b99001": {
       "attrs": {
        "height": 0.8,
        "width": 0.8,
        "x": 0.1,
        "y": 0.1
       },
       "content": {
        "cell": "92d9191e-cc14-45ab-a14c-6230d3a7698e",
        "part": "whole"
       },
       "id": "25db14dd-17a3-44bd-b489-851242b99001"
      }
     }
    },
    "283e303d-3c3a-4356-8ca5-d235073bc0f4": {
     "id": "283e303d-3c3a-4356-8ca5-d235073bc0f4",
     "prev": "c8358161-225f-49ec-a9da-341f0e56386f",
     "regions": {
      "d91a85c2-65fa-47d7-8286-42c69f69da56": {
       "attrs": {
        "height": 0.8,
        "width": 0.8,
        "x": 0.1,
        "y": 0.1
       },
       "content": {
        "cell": "283401ca-88f7-44f8-9b11-a5881db97806",
        "part": "whole"
       },
       "id": "d91a85c2-65fa-47d7-8286-42c69f69da56"
      }
     }
    },
    "2bb40302-177a-44bb-bfba-cc0243fdd13c": {
     "id": "2bb40302-177a-44bb-bfba-cc0243fdd13c",
     "prev": "46fd22c1-7be4-46b1-bcb3-579111db00ab",
     "regions": {
      "274a34ea-407c-43a5-ab7c-40df4ff75f68": {
       "attrs": {
        "height": 0.8,
        "width": 0.8,
        "x": 0.1,
        "y": 0.1
       },
       "content": {
        "cell": "2897d85f-47a2-4354-a82a-85e8ecada0b9",
        "part": "whole"
       },
       "id": "274a34ea-407c-43a5-ab7c-40df4ff75f68"
      }
     }
    },
    "3461813e-005a-4d95-ae4b-fb5d81a0fb21": {
     "id": "3461813e-005a-4d95-ae4b-fb5d81a0fb21",
     "prev": "485ba65e-d3d6-4095-8a7d-8a443dc1f873",
     "regions": {
      "39c90127-d2c8-4e86-bc87-34f3b1801a50": {
       "attrs": {
        "height": 0.8,
        "width": 0.8,
        "x": 0.1,
        "y": 0.1
       },
       "content": {
        "cell": "a885e95a-55e6-4fdc-9545-34449596e5e0",
        "part": "whole"
       },
       "id": "39c90127-d2c8-4e86-bc87-34f3b1801a50"
      }
     }
    },
    "386a8b0d-4206-459c-80ff-865a12124370": {
     "id": "386a8b0d-4206-459c-80ff-865a12124370",
     "prev": "55c32566-5f5b-4ddf-bda6-8eda78d2dc6d",
     "regions": {
      "1d94d5ef-b4d0-461e-82f8-5d4a0ea860ec": {
       "attrs": {
        "height": 0.8,
        "width": 0.8,
        "x": 0.1,
        "y": 0.1
       },
       "content": {
        "cell": "4602421e-dd03-423c-9a5e-b84cf8d2690a",
        "part": "whole"
       },
       "id": "1d94d5ef-b4d0-461e-82f8-5d4a0ea860ec"
      }
     }
    },
    "3ebbb9a2-583d-4375-ad89-499434873441": {
     "id": "3ebbb9a2-583d-4375-ad89-499434873441",
     "prev": "386a8b0d-4206-459c-80ff-865a12124370",
     "regions": {
      "765cfe32-19fb-483d-9928-79c09061d6ba": {
       "attrs": {
        "height": 0.8,
        "width": 0.8,
        "x": 0.1,
        "y": 0.1
       },
       "content": {
        "cell": "0e360739-563c-4c6a-a0fb-d65afaf941de",
        "part": "whole"
       },
       "id": "765cfe32-19fb-483d-9928-79c09061d6ba"
      }
     }
    },
    "3f8c03f4-d643-4bbd-8b49-358767b23868": {
     "id": "3f8c03f4-d643-4bbd-8b49-358767b23868",
     "prev": "b12a9800-4ed1-47c7-a688-3abe6d0d10cb",
     "regions": {
      "354d9482-b67b-4ce4-ba66-ef95f13af96d": {
       "attrs": {
        "height": 0.8,
        "width": 0.8,
        "x": 0.1,
        "y": 0.1
       },
       "content": {
        "cell": "39b5a4b8-d7e0-4427-a432-690a2c111e7d",
        "part": "whole"
       },
       "id": "354d9482-b67b-4ce4-ba66-ef95f13af96d"
      }
     }
    },
    "46fd22c1-7be4-46b1-bcb3-579111db00ab": {
     "id": "46fd22c1-7be4-46b1-bcb3-579111db00ab",
     "prev": "3ebbb9a2-583d-4375-ad89-499434873441",
     "regions": {
      "a8802508-b0df-4305-934e-67e7d2e1c5f2": {
       "attrs": {
        "height": 0.8,
        "width": 0.8,
        "x": 0.1,
        "y": 0.1
       },
       "content": {
        "cell": "c908db8c-4420-4788-b1b8-e450fd6d2161",
        "part": "whole"
       },
       "id": "a8802508-b0df-4305-934e-67e7d2e1c5f2"
      }
     }
    },
    "485ba65e-d3d6-4095-8a7d-8a443dc1f873": {
     "id": "485ba65e-d3d6-4095-8a7d-8a443dc1f873",
     "prev": "52bfea98-ceff-4bae-9416-58213657dd0d",
     "regions": {
      "9ac4462f-c2f9-40dc-b4eb-357479790fd6": {
       "attrs": {
        "height": 0.8,
        "width": 0.8,
        "x": 0.1,
        "y": 0.1
       },
       "content": {
        "cell": "ae98b53e-8588-4ce0-9bd5-e5c988cb56e2",
        "part": "whole"
       },
       "id": "9ac4462f-c2f9-40dc-b4eb-357479790fd6"
      }
     }
    },
    "4f208bb3-6e39-445f-ad0f-825572264acf": {
     "id": "4f208bb3-6e39-445f-ad0f-825572264acf",
     "prev": "83923779-0245-467b-bd90-b12c443db078",
     "regions": {
      "43f1b408-9b38-4266-b307-1351997b0123": {
       "attrs": {
        "height": 0.8,
        "width": 0.8,
        "x": 0.1,
        "y": 0.1
       },
       "content": {
        "cell": "7996ab9d-a127-4ef0-907b-6186afe33e45",
        "part": "whole"
       },
       "id": "43f1b408-9b38-4266-b307-1351997b0123"
      }
     }
    },
    "4f9f2e19-9c77-40d4-8b45-e5f7e08867f3": {
     "id": "4f9f2e19-9c77-40d4-8b45-e5f7e08867f3",
     "prev": "07eab611-d137-4a40-a1a9-63f35002630e",
     "regions": {
      "3b1c7e16-a692-4845-a5e6-2e58e535a08d": {
       "attrs": {
        "height": 0.8,
        "width": 0.8,
        "x": 0.1,
        "y": 0.1
       },
       "content": {
        "cell": "999cbb7e-6189-4492-b569-622160d8df10",
        "part": "whole"
       },
       "id": "3b1c7e16-a692-4845-a5e6-2e58e535a08d"
      }
     }
    },
    "52bfea98-ceff-4bae-9416-58213657dd0d": {
     "id": "52bfea98-ceff-4bae-9416-58213657dd0d",
     "prev": "4f9f2e19-9c77-40d4-8b45-e5f7e08867f3",
     "regions": {
      "b2f7cd88-84fe-4105-a223-2192fc79f920": {
       "attrs": {
        "height": 0.8,
        "width": 0.8,
        "x": 0.1,
        "y": 0.1
       },
       "content": {
        "cell": "a9fa79b4-3850-480a-a5a2-880d36846e02",
        "part": "whole"
       },
       "id": "b2f7cd88-84fe-4105-a223-2192fc79f920"
      }
     }
    },
    "55c32566-5f5b-4ddf-bda6-8eda78d2dc6d": {
     "id": "55c32566-5f5b-4ddf-bda6-8eda78d2dc6d",
     "prev": "f4067148-a377-4d9c-9047-abef2a3933f2",
     "regions": {
      "ef9b50dc-98a3-44d5-bc54-517ab4e00fd1": {
       "attrs": {
        "height": 0.8,
        "width": 0.8,
        "x": 0.1,
        "y": 0.1
       },
       "content": {
        "cell": "387728fd-542d-46ff-b65f-e1e6181ea530",
        "part": "whole"
       },
       "id": "ef9b50dc-98a3-44d5-bc54-517ab4e00fd1"
      }
     }
    },
    "83923779-0245-467b-bd90-b12c443db078": {
     "id": "83923779-0245-467b-bd90-b12c443db078",
     "prev": "2bb40302-177a-44bb-bfba-cc0243fdd13c",
     "regions": {
      "8aad2f19-d232-4f2a-a55d-fbefc9c61842": {
       "attrs": {
        "height": 0.8,
        "width": 0.8,
        "x": 0.1,
        "y": 0.1
       },
       "content": {
        "cell": "be612174-e159-40b1-9724-972ab58e1fb6",
        "part": "whole"
       },
       "id": "8aad2f19-d232-4f2a-a55d-fbefc9c61842"
      }
     }
    },
    "985533f4-fe36-47b4-b190-26cd5214027b": {
     "id": "985533f4-fe36-47b4-b190-26cd5214027b",
     "prev": null,
     "regions": {
      "72a46a68-95f1-4dfc-8f0d-d25c96fff21a": {
       "attrs": {
        "height": 0.8,
        "width": 0.8,
        "x": 0.1,
        "y": 0.1
       },
       "content": {
        "cell": "9ef47cbc-677e-47aa-9d6b-c7a942c77b37",
        "part": "whole"
       },
       "id": "72a46a68-95f1-4dfc-8f0d-d25c96fff21a"
      }
     }
    },
    "a89e8bc7-34db-421b-8aff-74aab45784fe": {
     "id": "a89e8bc7-34db-421b-8aff-74aab45784fe",
     "prev": "3461813e-005a-4d95-ae4b-fb5d81a0fb21",
     "regions": {
      "fc7b72bb-86ad-46ed-982c-5a0da4e213a1": {
       "attrs": {
        "height": 0.8,
        "width": 0.8,
        "x": 0.1,
        "y": 0.1
       },
       "content": {
        "cell": "6ecdf80d-e3a5-47bc-92b8-9e5cb90a21a8",
        "part": "whole"
       },
       "id": "fc7b72bb-86ad-46ed-982c-5a0da4e213a1"
      }
     }
    },
    "b12a9800-4ed1-47c7-a688-3abe6d0d10cb": {
     "id": "b12a9800-4ed1-47c7-a688-3abe6d0d10cb",
     "prev": "cbfc8fa0-0f7f-41dd-9d19-91c482088ee5",
     "regions": {
      "b3525bde-0c70-4f4b-a887-40ae5a69b8eb": {
       "attrs": {
        "height": 0.8,
        "width": 0.8,
        "x": 0.1,
        "y": 0.1
       },
       "content": {
        "cell": "f524ead4-e782-4dd8-ad81-2d2fb91d72d4",
        "part": "whole"
       },
       "id": "b3525bde-0c70-4f4b-a887-40ae5a69b8eb"
      }
     }
    },
    "c8358161-225f-49ec-a9da-341f0e56386f": {
     "id": "c8358161-225f-49ec-a9da-341f0e56386f",
     "prev": "3f8c03f4-d643-4bbd-8b49-358767b23868",
     "regions": {
      "3f7fd265-fd51-47a1-b90e-1b910823c258": {
       "attrs": {
        "height": 0.8,
        "width": 0.8,
        "x": 0.1,
        "y": 0.1
       },
       "content": {
        "cell": "a708d776-fa96-48f9-b2a4-fb46d36691d1",
        "part": "whole"
       },
       "id": "3f7fd265-fd51-47a1-b90e-1b910823c258"
      }
     }
    },
    "cbfc8fa0-0f7f-41dd-9d19-91c482088ee5": {
     "id": "cbfc8fa0-0f7f-41dd-9d19-91c482088ee5",
     "prev": "db6dac81-9716-41b2-a9f0-187d3b051286",
     "regions": {
      "d29ae587-3bb7-4c29-bf5b-e0d77c332c92": {
       "attrs": {
        "height": 0.8,
        "width": 0.8,
        "x": 0.1,
        "y": 0.1
       },
       "content": {
        "cell": "02fa1d29-5555-4a92-b094-71304103643f",
        "part": "whole"
       },
       "id": "d29ae587-3bb7-4c29-bf5b-e0d77c332c92"
      }
     }
    },
    "db6dac81-9716-41b2-a9f0-187d3b051286": {
     "id": "db6dac81-9716-41b2-a9f0-187d3b051286",
     "layout": "manual",
     "prev": "985533f4-fe36-47b4-b190-26cd5214027b",
     "regions": {
      "aac2a2df-621f-4ebd-af4c-a4d3741f90db": {
       "attrs": {
        "height": 1,
        "pad": 0.01,
        "treemap:weight": 1,
        "width": 1,
        "x": 0,
        "y": 0
       },
       "content": {
        "cell": "509e456a-791f-40cc-8638-071375faaecc",
        "part": "whole"
       },
       "id": "aac2a2df-621f-4ebd-af4c-a4d3741f90db"
      }
     }
    },
    "f4067148-a377-4d9c-9047-abef2a3933f2": {
     "id": "f4067148-a377-4d9c-9047-abef2a3933f2",
     "prev": "fabfc1b8-1957-460a-8179-ebd9092161b0",
     "regions": {
      "5ce8bc04-1eab-4be1-b1df-4287f513c4c3": {
       "attrs": {
        "height": 0.8,
        "width": 0.8,
        "x": 0.1,
        "y": 0.1
       },
       "content": {
        "cell": "8719910a-923c-41b7-ad1f-9c5363cbec28",
        "part": "whole"
       },
       "id": "5ce8bc04-1eab-4be1-b1df-4287f513c4c3"
      }
     }
    },
    "fabfc1b8-1957-460a-8179-ebd9092161b0": {
     "id": "fabfc1b8-1957-460a-8179-ebd9092161b0",
     "prev": "283e303d-3c3a-4356-8ca5-d235073bc0f4",
     "regions": {
      "690e5b43-7217-4de4-9757-e30adad9111f": {
       "attrs": {
        "height": 0.8,
        "width": 0.8,
        "x": 0.1,
        "y": 0.1
       },
       "content": {
        "cell": "f8971090-fc96-4070-9732-2744b6b33145",
        "part": "whole"
       },
       "id": "690e5b43-7217-4de4-9757-e30adad9111f"
      }
     }
    }
   },
   "themes": {}
  }
 },
 "nbformat": 4,
 "nbformat_minor": 0
}
