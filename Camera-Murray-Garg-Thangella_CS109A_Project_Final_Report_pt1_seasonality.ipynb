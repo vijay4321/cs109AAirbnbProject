{
 "cells": [
  {
   "cell_type": "markdown",
   "metadata": {
    "nbpresent": {
     "id": "9ef47cbc-677e-47aa-9d6b-c7a942c77b37"
    }
   },
   "source": [
    "# CS 109A/AC 209A/STAT 121A Data Science: Airbnb Project\n",
    "## Further Exploration of Seasonality\n",
    "**Harvard University**  \n",
    "**Fall 2016**  \n",
    "**Team**: Stephen Camera-Murray, Himani Garg, and Vijay Thangella  \n",
    "**TF**: Christine Hwang  \n",
    "  \n",
    "**Due Date: ** Wednesday, November 5th, 2016 at 11:59pm"
   ]
  },
  {
   "cell_type": "markdown",
   "metadata": {},
   "source": [
    "### III. Further Exploration of Seasonality"
   ]
  },
  {
   "cell_type": "markdown",
   "metadata": {
    "nbpresent": {
     "id": "02fa1d29-5555-4a92-b094-71304103643f"
    }
   },
   "source": [
    "Import libraries"
   ]
  },
  {
   "cell_type": "code",
   "execution_count": 1,
   "metadata": {
    "collapsed": false,
    "nbpresent": {
     "id": "f524ead4-e782-4dd8-ad81-2d2fb91d72d4"
    }
   },
   "outputs": [],
   "source": [
    "# import libraries\n",
    "import warnings\n",
    "import numpy as np\n",
    "import pandas as pd\n",
    "import matplotlib\n",
    "import matplotlib.pyplot as plt\n",
    "import seaborn as sns\n",
    "from sklearn.model_selection import train_test_split\n",
    "from sklearn.metrics import f1_score\n",
    "import random\n",
    "from sklearn.linear_model import LogisticRegression\n",
    "import wordcloud\n",
    "import pandasql\n",
    "\n",
    "# suppress warnings\n",
    "warnings.filterwarnings ( 'ignore' )\n",
    "%matplotlib inline"
   ]
  },
  {
   "cell_type": "markdown",
   "metadata": {},
   "source": [
    "#### Load the cleansed data"
   ]
  },
  {
   "cell_type": "markdown",
   "metadata": {},
   "source": [
    "We begin by loading the listings dataset we saved after cleansing from milestone #4:  \n",
    "- cleansed_listings.csv.gz - the New York City Airbnb listing data from January 2015 (cleansed)\n",
    "- calendar.csv.gz - listing prices for specific dates-- to be analyzed for seasonality"
   ]
  },
  {
   "cell_type": "code",
   "execution_count": 2,
   "metadata": {
    "collapsed": false
   },
   "outputs": [
    {
     "data": {
      "text/html": [
       "<div>\n",
       "<table border=\"1\" class=\"dataframe\">\n",
       "  <thead>\n",
       "    <tr style=\"text-align: right;\">\n",
       "      <th></th>\n",
       "      <th>name</th>\n",
       "      <th>neighborhood</th>\n",
       "      <th>property_type</th>\n",
       "      <th>room_type</th>\n",
       "      <th>accommodates</th>\n",
       "      <th>bathrooms</th>\n",
       "      <th>bedrooms</th>\n",
       "      <th>beds</th>\n",
       "      <th>bed_type</th>\n",
       "      <th>square_feet</th>\n",
       "      <th>...</th>\n",
       "      <th>review_scores_cleanliness</th>\n",
       "      <th>review_scores_checkin</th>\n",
       "      <th>review_scores_communication</th>\n",
       "      <th>review_scores_location</th>\n",
       "      <th>review_scores_value</th>\n",
       "      <th>host_listing_count</th>\n",
       "      <th>months_as_host</th>\n",
       "      <th>months_since_first_review</th>\n",
       "      <th>months_since_last_review</th>\n",
       "      <th>price_category</th>\n",
       "    </tr>\n",
       "    <tr>\n",
       "      <th>id</th>\n",
       "      <th></th>\n",
       "      <th></th>\n",
       "      <th></th>\n",
       "      <th></th>\n",
       "      <th></th>\n",
       "      <th></th>\n",
       "      <th></th>\n",
       "      <th></th>\n",
       "      <th></th>\n",
       "      <th></th>\n",
       "      <th></th>\n",
       "      <th></th>\n",
       "      <th></th>\n",
       "      <th></th>\n",
       "      <th></th>\n",
       "      <th></th>\n",
       "      <th></th>\n",
       "      <th></th>\n",
       "      <th></th>\n",
       "      <th></th>\n",
       "      <th></th>\n",
       "    </tr>\n",
       "  </thead>\n",
       "  <tbody>\n",
       "    <tr>\n",
       "      <th>1069266</th>\n",
       "      <td>Stay like a real New Yorker!</td>\n",
       "      <td>Midtown East</td>\n",
       "      <td>Apartment</td>\n",
       "      <td>Entire home/apt</td>\n",
       "      <td>2</td>\n",
       "      <td>1.0</td>\n",
       "      <td>1.0</td>\n",
       "      <td>1.0</td>\n",
       "      <td>Real Bed</td>\n",
       "      <td>1.0</td>\n",
       "      <td>...</td>\n",
       "      <td>7.0</td>\n",
       "      <td>9.0</td>\n",
       "      <td>9.0</td>\n",
       "      <td>10.0</td>\n",
       "      <td>9.0</td>\n",
       "      <td>1</td>\n",
       "      <td>21</td>\n",
       "      <td>21</td>\n",
       "      <td>1</td>\n",
       "      <td>Mid</td>\n",
       "    </tr>\n",
       "    <tr>\n",
       "      <th>2061725</th>\n",
       "      <td>Option of 2 Beds w Private Bathroom</td>\n",
       "      <td>Bushwick</td>\n",
       "      <td>Apartment</td>\n",
       "      <td>Private room</td>\n",
       "      <td>2</td>\n",
       "      <td>1.0</td>\n",
       "      <td>1.0</td>\n",
       "      <td>2.0</td>\n",
       "      <td>Real Bed</td>\n",
       "      <td>1.0</td>\n",
       "      <td>...</td>\n",
       "      <td>10.0</td>\n",
       "      <td>10.0</td>\n",
       "      <td>10.0</td>\n",
       "      <td>9.0</td>\n",
       "      <td>10.0</td>\n",
       "      <td>4</td>\n",
       "      <td>24</td>\n",
       "      <td>11</td>\n",
       "      <td>1</td>\n",
       "      <td>Low</td>\n",
       "    </tr>\n",
       "  </tbody>\n",
       "</table>\n",
       "<p>2 rows × 30 columns</p>\n",
       "</div>"
      ],
      "text/plain": [
       "                                        name  neighborhood property_type  \\\n",
       "id                                                                         \n",
       "1069266        Stay like a real New Yorker!   Midtown East     Apartment   \n",
       "2061725  Option of 2 Beds w Private Bathroom      Bushwick     Apartment   \n",
       "\n",
       "               room_type  accommodates  bathrooms  bedrooms  beds  bed_type  \\\n",
       "id                                                                            \n",
       "1069266  Entire home/apt             2        1.0       1.0   1.0  Real Bed   \n",
       "2061725     Private room             2        1.0       1.0   2.0  Real Bed   \n",
       "\n",
       "         square_feet       ...        review_scores_cleanliness  \\\n",
       "id                         ...                                    \n",
       "1069266          1.0       ...                              7.0   \n",
       "2061725          1.0       ...                             10.0   \n",
       "\n",
       "         review_scores_checkin  review_scores_communication  \\\n",
       "id                                                            \n",
       "1069266                    9.0                          9.0   \n",
       "2061725                   10.0                         10.0   \n",
       "\n",
       "         review_scores_location  review_scores_value  host_listing_count  \\\n",
       "id                                                                         \n",
       "1069266                    10.0                  9.0                   1   \n",
       "2061725                     9.0                 10.0                   4   \n",
       "\n",
       "         months_as_host  months_since_first_review  months_since_last_review  \\\n",
       "id                                                                             \n",
       "1069266              21                         21                         1   \n",
       "2061725              24                         11                         1   \n",
       "\n",
       "         price_category  \n",
       "id                       \n",
       "1069266             Mid  \n",
       "2061725             Low  \n",
       "\n",
       "[2 rows x 30 columns]"
      ]
     },
     "execution_count": 2,
     "metadata": {},
     "output_type": "execute_result"
    }
   ],
   "source": [
    "# load listings data into a pandas df\n",
    "listingsDF = pd.read_csv (  './datasets/cleansed_listings_with_target.tab.gz', sep = '\\t', index_col = 'id', compression = 'gzip' )\n",
    "\n",
    "# display the first two rows\n",
    "listingsDF.head ( n = 2 )"
   ]
  },
  {
   "cell_type": "code",
   "execution_count": 3,
   "metadata": {
    "collapsed": false
   },
   "outputs": [
    {
     "data": {
      "text/plain": [
       "(19526, 30)"
      ]
     },
     "execution_count": 3,
     "metadata": {},
     "output_type": "execute_result"
    }
   ],
   "source": [
    "listingsDF.shape"
   ]
  },
  {
   "cell_type": "code",
   "execution_count": 4,
   "metadata": {
    "collapsed": false
   },
   "outputs": [
    {
     "data": {
      "text/html": [
       "<div>\n",
       "<table border=\"1\" class=\"dataframe\">\n",
       "  <thead>\n",
       "    <tr style=\"text-align: right;\">\n",
       "      <th></th>\n",
       "      <th>listing_id</th>\n",
       "      <th>date</th>\n",
       "      <th>available</th>\n",
       "      <th>price</th>\n",
       "      <th>month</th>\n",
       "      <th>season</th>\n",
       "    </tr>\n",
       "  </thead>\n",
       "  <tbody>\n",
       "    <tr>\n",
       "      <th>0</th>\n",
       "      <td>3604481</td>\n",
       "      <td>2015-01-01</td>\n",
       "      <td>t</td>\n",
       "      <td>600.0</td>\n",
       "      <td>1</td>\n",
       "      <td>Winter</td>\n",
       "    </tr>\n",
       "    <tr>\n",
       "      <th>1</th>\n",
       "      <td>3604481</td>\n",
       "      <td>2015-01-02</td>\n",
       "      <td>t</td>\n",
       "      <td>600.0</td>\n",
       "      <td>1</td>\n",
       "      <td>Winter</td>\n",
       "    </tr>\n",
       "  </tbody>\n",
       "</table>\n",
       "</div>"
      ],
      "text/plain": [
       "   listing_id        date available  price  month  season\n",
       "0     3604481  2015-01-01         t  600.0      1  Winter\n",
       "1     3604481  2015-01-02         t  600.0      1  Winter"
      ]
     },
     "execution_count": 4,
     "metadata": {},
     "output_type": "execute_result"
    }
   ],
   "source": [
    "# load listings data into a pandas df\n",
    "calendarDF = pd.read_csv (  './datasets/cleansed_calendar.tab.gz', sep = '\\t', compression = 'gzip' )\n",
    "\n",
    "# display the first two rows\n",
    "calendarDF.head ( n = 2 )"
   ]
  },
  {
   "cell_type": "code",
   "execution_count": 5,
   "metadata": {
    "collapsed": false
   },
   "outputs": [
    {
     "data": {
      "text/plain": [
       "(7201883, 6)"
      ]
     },
     "execution_count": 5,
     "metadata": {},
     "output_type": "execute_result"
    }
   ],
   "source": [
    "calendarDF.shape"
   ]
  },
  {
   "cell_type": "markdown",
   "metadata": {},
   "source": [
    "Visualizing seasonality of pricing from milestone #3."
   ]
  },
  {
   "cell_type": "code",
   "execution_count": 42,
   "metadata": {
    "collapsed": false
   },
   "outputs": [
    {
     "data": {
      "image/png": "[encoded data removed]",
      "text/plain": [
       "<matplotlib.figure.Figure at 0x1bdfa3c8>"
      ]
     },
     "metadata": {},
     "output_type": "display_data"
    }
   ],
   "source": [
    "# create a seasonal dataframe with average seasonal pricing for each listing\n",
    "seasonalDF = calendarDF.groupby ( [ 'listing_id', 'season' ] ) [ 'price' ].mean().to_frame ( name = 'price' ).reset_index()\n",
    "\n",
    "# parse out the seasonal pricing data\n",
    "seasons = [ \"Winter\", \"Spring\", \"Summer\", \"Fall\" ]\n",
    "df = [ seasonalDF [ \"price\" ][ ( seasonalDF [ \"season\" ] == season ) ].values for season in seasons ]\n",
    "\n",
    "# set up our visualization\n",
    "sns.set ( rc = { \"figure.figsize\" : ( 5, 5 ) } )\n",
    "sns.set_palette ( palette = \"Blues_r\" )\n",
    "\n",
    "# create violin plot\n",
    "ax = sns.violinplot ( data = df )\n",
    "\n",
    "# set labels\n",
    "ax.set_title  ( \"Seasonal Listing Prices\" )\n",
    "ax.yaxis.grid ( True )\n",
    "ax.set_xticks ( [ ( y + 1 ) for y in range ( len ( df ) ) ] )\n",
    "ax.set_xlabel ( \"Season\" )\n",
    "ax.set_ylabel ( \"Price ($)\" )\n",
    "\n",
    "# add x-tick labels and adjust y-axis\n",
    "plt.setp (ax, xticks = [ ( y ) for y in range ( len ( df ) ) ], xticklabels = seasons )\n",
    "ax.set ( ylim = ( 0, None ) )\n",
    "\n",
    "# display plot\n",
    "plt.tight_layout()\n",
    "plt.show()"
   ]
  },
  {
   "cell_type": "markdown",
   "metadata": {},
   "source": [
    "In milestone #3, we didn’t find any significant seasonality effect on price when looking strictly at the calendar seasons. But we did see price fluctuations and will explore further what might be causing them by looking at other seasonal effects such as holidays, back-to-school, or summer to see if there's a real effect. We'll delve deeper into the potential for seasonal effects from a holiday perspective and/or through interactions (e.g. higher prices around the holidays to accommodate friends and relatives)."
   ]
  },
  {
   "cell_type": "markdown",
   "metadata": {},
   "source": [
    "#### Visualize Seasonality Trends  \n",
    "Let's start by only looking at 2015 since we have a few dates in 2016 and some prices that are 0-- we'll filter those out."
   ]
  },
  {
   "cell_type": "code",
   "execution_count": 6,
   "metadata": {
    "collapsed": false
   },
   "outputs": [],
   "source": [
    "# filter out 2016 dates from the calendar listings\n",
    "calendarDF = calendarDF [ ( calendarDF [ \"date\" ] < \"2016-01-01\" ) & ( calendarDF [ \"price\" ] > 0 ) ]"
   ]
  },
  {
   "cell_type": "markdown",
   "metadata": {},
   "source": [
    "Next, we'll get the baseline price for each listing, then append it to our original dataset. We'll also get the neighborhood using an inner join which will filter our calendar dataset to one bedroom units as well."
   ]
  },
  {
   "cell_type": "code",
   "execution_count": 7,
   "metadata": {
    "collapsed": false
   },
   "outputs": [],
   "source": [
    "# get the baseline price based on the mode\n",
    "baselineDF = calendarDF.groupby ( [ 'listing_id' ] ) [ 'price' ].agg (\n",
    "    lambda x : x.value_counts().index [ 0 ] ).to_frame ( name = 'baseline_price' ).reset_index()\n",
    "\n",
    "# now add the baseline price to the dataframe\n",
    "calendarDF = calendarDF.join ( baselineDF.set_index ( \"listing_id\" ), on = \"listing_id\" )\n",
    "\n",
    "# add the neighborhood to the dataframe as well\n",
    "calendarDF = calendarDF.join ( listingsDF [ [ \"neighborhood\" ] ], on = \"listing_id\", how = \"inner\" )"
   ]
  },
  {
   "cell_type": "markdown",
   "metadata": {},
   "source": [
    "Now, add the price delta and price delta percent to the dataframe and remove listing dates without a price difference."
   ]
  },
  {
   "cell_type": "code",
   "execution_count": 8,
   "metadata": {
    "collapsed": false
   },
   "outputs": [],
   "source": [
    "# add the price_delta and price_delta_pct\n",
    "calendarDF [ \"price_delta\" ]     = ( calendarDF [ \"price\" ] - calendarDF [ \"baseline_price\" ] )\n",
    "calendarDF [ \"price_delta_pct\" ] = ( 100.0 * ( calendarDF [ \"price\" ] - calendarDF [ \"baseline_price\" ] ) / calendarDF [ \"baseline_price\" ] )\n",
    "\n",
    "# remove listing dates without a price difference\n",
    "calendarDF = calendarDF [ calendarDF [ \"price_delta_pct\" ] != 0 ]"
   ]
  },
  {
   "cell_type": "markdown",
   "metadata": {},
   "source": [
    "Next, calculate the mean price delta percentage by date and visualize it so we can see if there are any obvious trends."
   ]
  },
  {
   "cell_type": "code",
   "execution_count": 39,
   "metadata": {
    "collapsed": false
   },
   "outputs": [],
   "source": [
    "# get the mean price delta \n",
    "pricechangeDF = calendarDF.groupby ( [ 'date' ] ) [ 'price_delta_pct' ].mean().to_frame ( name = 'mean_pct_price_change' ).reset_index()"
   ]
  },
  {
   "cell_type": "code",
   "execution_count": 40,
   "metadata": {
    "collapsed": false
   },
   "outputs": [
    {
     "data": {
      "image/png": "[encoded data removed]",
      "text/plain": [
       "<matplotlib.figure.Figure at 0x108c6a58>"
      ]
     },
     "metadata": {},
     "output_type": "display_data"
    }
   ],
   "source": [
    "# set up visualization\n",
    "sns.set ( rc = { \"figure.figsize\" : ( 7, 4 ) } )\n",
    "\n",
    "# plot the histogram of prices - filtering out the extreme highs\n",
    "ax = sns.barplot ( x = \"date\", y = \"mean_pct_price_change\", data = pricechangeDF )\n",
    "\n",
    "# set the labels\n",
    "ax.set_title  ( \"Mean Price Change (%) for 2015\" )\n",
    "ax.set_xlabel ( \"Month\" )\n",
    "ax.set_ylabel ( \"Mean Price Change (%)\" )\n",
    "ax.xaxis.set_ticks ( np.arange ( 0, 365, 31 ) )\n",
    "ax.set_xticklabels ( np.array ( [ 'Jan', 'Feb', 'Mar', 'Apr', 'May'\n",
    "                                , 'Jun', 'Jul', 'Aug', 'Sep', 'Oct', 'Nov', 'Dec' ] ), rotation = 90 )\n",
    "\n",
    "# display the visualization\n",
    "plt.show()"
   ]
  },
  {
   "cell_type": "markdown",
   "metadata": {},
   "source": [
    "There are a few seasonality differences we can easily spot from our visualization:\n",
    "- weekends tend to command a higher price than weekdays\n",
    "- fall and winter generally have discounted prices compared to spring and summer\n",
    "- the Christmas and New Years holidays are usually more expensive"
   ]
  },
  {
   "cell_type": "markdown",
   "metadata": {},
   "source": [
    "Another thing we notice is there seems to be a pattern to the average percent change in price that we might be able to bucket naturally. Again, the reason we choose to go this route is user-friendliness for sellers and buyers in the UI. Let's look at a distribution plot of perecent price differences."
   ]
  },
  {
   "cell_type": "code",
   "execution_count": 69,
   "metadata": {
    "collapsed": false
   },
   "outputs": [
    {
     "data": {
      "image/png": "[encoded data removed]",
      "text/plain": [
       "<matplotlib.figure.Figure at 0x239ea5c0>"
      ]
     },
     "metadata": {},
     "output_type": "display_data"
    }
   ],
   "source": [
    "# set up visualization\n",
    "sns.set ( rc = { \"figure.figsize\" : ( 7, 4 ) } )\n",
    "\n",
    "# plot the histogram of percent price differences\n",
    "ax = sns.distplot ( pricechangeDF [ \"mean_pct_price_change\" ], bins = 6 )\n",
    "\n",
    "# set the labels\n",
    "ax.set_title  ( \"Distribution of Percent Price Change\" )\n",
    "ax.set_xlabel ( \"Price Change (%)\" )\n",
    "ax.set_ylabel ( \"Distribution\" )\n",
    "\n",
    "#ax.set_xlim ( 0, 1000 )\n",
    "\n",
    "# display the visualization\n",
    "plt.show()"
   ]
  },
  {
   "cell_type": "markdown",
   "metadata": {},
   "source": [
    "To give our model the ability to trend seasonality, we'll add the following date-based features:  \n",
    "- weekend - 1 for weekend, 0 for weekday\n",
    "- month - 1-12 for January-December\n",
    "- new_year_holiday - 1 for New Year's holiday, 0 otherwise\n",
    "- xmas_holiday - 1 for Christmas holiday, 0 otherwise"
   ]
  },
  {
   "cell_type": "code",
   "execution_count": 52,
   "metadata": {
    "collapsed": true
   },
   "outputs": [],
   "source": [
    "# add a weekend indicator to each dataframe\n",
    "calendarDF    [ \"weekend\" ] = ( pd.to_datetime (    calendarDF [ \"date\" ] ).dt.dayofweek >= 5 ) * 1\n",
    "pricechangeDF [ \"weekend\" ] = ( pd.to_datetime ( pricechangeDF [ \"date\" ] ).dt.dayofweek >= 5 ) * 1\n",
    "\n",
    "# add month feature to each dataframe\n",
    "calendarDF    [ \"month\" ] = pd.to_datetime (    calendarDF [ \"date\" ] ).dt.month\n",
    "pricechangeDF [ \"month\" ] = pd.to_datetime ( pricechangeDF [ \"date\" ] ).dt.month\n",
    "\n",
    "# add xmas_holiday feature\n",
    "calendarDF    [ \"new_year_holiday\" ] = (    calendarDF [ \"date\" ].str [ 5 : ] <= \"01-03\" ) * 1\n",
    "pricechangeDF [ \"new_year_holiday\" ] = ( pricechangeDF [ \"date\" ].str [ 5 : ] <= \"01-03\" ) * 1\n",
    "\n",
    "# add xmas_holiday feature\n",
    "calendarDF    [ \"xmas_holiday\" ] = (    calendarDF [ \"date\" ].str [ 5 : ] >= \"12-24\" ) * 1\n",
    "pricechangeDF [ \"xmas_holiday\" ] = ( pricechangeDF [ \"date\" ].str [ 5 : ] >= \"12-24\" ) * 1"
   ]
  },
  {
   "cell_type": "markdown",
   "metadata": {},
   "source": []
  }
 ],
 "metadata": {
  "anaconda-cloud": {},
  "kernelspec": {
   "display_name": "Python [conda root]",
   "language": "python",
   "name": "conda-root-py"
  },
  "language_info": {
   "codemirror_mode": {
    "name": "ipython",
    "version": 2
   },
   "file_extension": ".py",
   "mimetype": "text/x-python",
   "name": "python",
   "nbconvert_exporter": "python",
   "pygments_lexer": "ipython2",
   "version": "2.7.12"
  },
  "nbpresent": {
   "slides": {
    "07eab611-d137-4a40-a1a9-63f35002630e": {
     "id": "07eab611-d137-4a40-a1a9-63f35002630e",
     "prev": "4f208bb3-6e39-445f-ad0f-825572264acf",
     "regions": {
      "25db14dd-17a3-44bd-b489-851242b99001": {
       "attrs": {
        "height": 0.8,
        "width": 0.8,
        "x": 0.1,
        "y": 0.1
       },
       "content": {
        "cell": "92d9191e-cc14-45ab-a14c-6230d3a7698e",
        "part": "whole"
       },
       "id": "25db14dd-17a3-44bd-b489-851242b99001"
      }
     }
    },
    "283e303d-3c3a-4356-8ca5-d235073bc0f4": {
     "id": "283e303d-3c3a-4356-8ca5-d235073bc0f4",
     "prev": "c8358161-225f-49ec-a9da-341f0e56386f",
     "regions": {
      "d91a85c2-65fa-47d7-8286-42c69f69da56": {
       "attrs": {
        "height": 0.8,
        "width": 0.8,
        "x": 0.1,
        "y": 0.1
       },
       "content": {
        "cell": "283401ca-88f7-44f8-9b11-a5881db97806",
        "part": "whole"
       },
       "id": "d91a85c2-65fa-47d7-8286-42c69f69da56"
      }
     }
    },
    "2bb40302-177a-44bb-bfba-cc0243fdd13c": {
     "id": "2bb40302-177a-44bb-bfba-cc0243fdd13c",
     "prev": "46fd22c1-7be4-46b1-bcb3-579111db00ab",
     "regions": {
      "274a34ea-407c-43a5-ab7c-40df4ff75f68": {
       "attrs": {
        "height": 0.8,
        "width": 0.8,
        "x": 0.1,
        "y": 0.1
       },
       "content": {
        "cell": "2897d85f-47a2-4354-a82a-85e8ecada0b9",
        "part": "whole"
       },
       "id": "274a34ea-407c-43a5-ab7c-40df4ff75f68"
      }
     }
    },
    "3461813e-005a-4d95-ae4b-fb5d81a0fb21": {
     "id": "3461813e-005a-4d95-ae4b-fb5d81a0fb21",
     "prev": "485ba65e-d3d6-4095-8a7d-8a443dc1f873",
     "regions": {
      "39c90127-d2c8-4e86-bc87-34f3b1801a50": {
       "attrs": {
        "height": 0.8,
        "width": 0.8,
        "x": 0.1,
        "y": 0.1
       },
       "content": {
        "cell": "a885e95a-55e6-4fdc-9545-34449596e5e0",
        "part": "whole"
       },
       "id": "39c90127-d2c8-4e86-bc87-34f3b1801a50"
      }
     }
    },
    "386a8b0d-4206-459c-80ff-865a12124370": {
     "id": "386a8b0d-4206-459c-80ff-865a12124370",
     "prev": "55c32566-5f5b-4ddf-bda6-8eda78d2dc6d",
     "regions": {
      "1d94d5ef-b4d0-461e-82f8-5d4a0ea860ec": {
       "attrs": {
        "height": 0.8,
        "width": 0.8,
        "x": 0.1,
        "y": 0.1
       },
       "content": {
        "cell": "4602421e-dd03-423c-9a5e-b84cf8d2690a",
        "part": "whole"
       },
       "id": "1d94d5ef-b4d0-461e-82f8-5d4a0ea860ec"
      }
     }
    },
    "3ebbb9a2-583d-4375-ad89-499434873441": {
     "id": "3ebbb9a2-583d-4375-ad89-499434873441",
     "prev": "386a8b0d-4206-459c-80ff-865a12124370",
     "regions": {
      "765cfe32-19fb-483d-9928-79c09061d6ba": {
       "attrs": {
        "height": 0.8,
        "width": 0.8,
        "x": 0.1,
        "y": 0.1
       },
       "content": {
        "cell": "0e360739-563c-4c6a-a0fb-d65afaf941de",
        "part": "whole"
       },
       "id": "765cfe32-19fb-483d-9928-79c09061d6ba"
      }
     }
    },
    "3f8c03f4-d643-4bbd-8b49-358767b23868": {
     "id": "3f8c03f4-d643-4bbd-8b49-358767b23868",
     "prev": "b12a9800-4ed1-47c7-a688-3abe6d0d10cb",
     "regions": {
      "354d9482-b67b-4ce4-ba66-ef95f13af96d": {
       "attrs": {
        "height": 0.8,
        "width": 0.8,
        "x": 0.1,
        "y": 0.1
       },
       "content": {
        "cell": "39b5a4b8-d7e0-4427-a432-690a2c111e7d",
        "part": "whole"
       },
       "id": "354d9482-b67b-4ce4-ba66-ef95f13af96d"
      }
     }
    },
    "46fd22c1-7be4-46b1-bcb3-579111db00ab": {
     "id": "46fd22c1-7be4-46b1-bcb3-579111db00ab",
     "prev": "3ebbb9a2-583d-4375-ad89-499434873441",
     "regions": {
      "a8802508-b0df-4305-934e-67e7d2e1c5f2": {
       "attrs": {
        "height": 0.8,
        "width": 0.8,
        "x": 0.1,
        "y": 0.1
       },
       "content": {
        "cell": "c908db8c-4420-4788-b1b8-e450fd6d2161",
        "part": "whole"
       },
       "id": "a8802508-b0df-4305-934e-67e7d2e1c5f2"
      }
     }
    },
    "485ba65e-d3d6-4095-8a7d-8a443dc1f873": {
     "id": "485ba65e-d3d6-4095-8a7d-8a443dc1f873",
     "prev": "52bfea98-ceff-4bae-9416-58213657dd0d",
     "regions": {
      "9ac4462f-c2f9-40dc-b4eb-357479790fd6": {
       "attrs": {
        "height": 0.8,
        "width": 0.8,
        "x": 0.1,
        "y": 0.1
       },
       "content": {
        "cell": "ae98b53e-8588-4ce0-9bd5-e5c988cb56e2",
        "part": "whole"
       },
       "id": "9ac4462f-c2f9-40dc-b4eb-357479790fd6"
      }
     }
    },
    "4f208bb3-6e39-445f-ad0f-825572264acf": {
     "id": "4f208bb3-6e39-445f-ad0f-825572264acf",
     "prev": "83923779-0245-467b-bd90-b12c443db078",
     "regions": {
      "43f1b408-9b38-4266-b307-1351997b0123": {
       "attrs": {
        "height": 0.8,
        "width": 0.8,
        "x": 0.1,
        "y": 0.1
       },
       "content": {
        "cell": "7996ab9d-a127-4ef0-907b-6186afe33e45",
        "part": "whole"
       },
       "id": "43f1b408-9b38-4266-b307-1351997b0123"
      }
     }
    },
    "4f9f2e19-9c77-40d4-8b45-e5f7e08867f3": {
     "id": "4f9f2e19-9c77-40d4-8b45-e5f7e08867f3",
     "prev": "07eab611-d137-4a40-a1a9-63f35002630e",
     "regions": {
      "3b1c7e16-a692-4845-a5e6-2e58e535a08d": {
       "attrs": {
        "height": 0.8,
        "width": 0.8,
        "x": 0.1,
        "y": 0.1
       },
       "content": {
        "cell": "999cbb7e-6189-4492-b569-622160d8df10",
        "part": "whole"
       },
       "id": "3b1c7e16-a692-4845-a5e6-2e58e535a08d"
      }
     }
    },
    "52bfea98-ceff-4bae-9416-58213657dd0d": {
     "id": "52bfea98-ceff-4bae-9416-58213657dd0d",
     "prev": "4f9f2e19-9c77-40d4-8b45-e5f7e08867f3",
     "regions": {
      "b2f7cd88-84fe-4105-a223-2192fc79f920": {
       "attrs": {
        "height": 0.8,
        "width": 0.8,
        "x": 0.1,
        "y": 0.1
       },
       "content": {
        "cell": "a9fa79b4-3850-480a-a5a2-880d36846e02",
        "part": "whole"
       },
       "id": "b2f7cd88-84fe-4105-a223-2192fc79f920"
      }
     }
    },
    "55c32566-5f5b-4ddf-bda6-8eda78d2dc6d": {
     "id": "55c32566-5f5b-4ddf-bda6-8eda78d2dc6d",
     "prev": "f4067148-a377-4d9c-9047-abef2a3933f2",
     "regions": {
      "ef9b50dc-98a3-44d5-bc54-517ab4e00fd1": {
       "attrs": {
        "height": 0.8,
        "width": 0.8,
        "x": 0.1,
        "y": 0.1
       },
       "content": {
        "cell": "387728fd-542d-46ff-b65f-e1e6181ea530",
        "part": "whole"
       },
       "id": "ef9b50dc-98a3-44d5-bc54-517ab4e00fd1"
      }
     }
    },
    "83923779-0245-467b-bd90-b12c443db078": {
     "id": "83923779-0245-467b-bd90-b12c443db078",
     "prev": "2bb40302-177a-44bb-bfba-cc0243fdd13c",
     "regions": {
      "8aad2f19-d232-4f2a-a55d-fbefc9c61842": {
       "attrs": {
        "height": 0.8,
        "width": 0.8,
        "x": 0.1,
        "y": 0.1
       },
       "content": {
        "cell": "be612174-e159-40b1-9724-972ab58e1fb6",
        "part": "whole"
       },
       "id": "8aad2f19-d232-4f2a-a55d-fbefc9c61842"
      }
     }
    },
    "985533f4-fe36-47b4-b190-26cd5214027b": {
     "id": "985533f4-fe36-47b4-b190-26cd5214027b",
     "prev": null,
     "regions": {
      "72a46a68-95f1-4dfc-8f0d-d25c96fff21a": {
       "attrs": {
        "height": 0.8,
        "width": 0.8,
        "x": 0.1,
        "y": 0.1
       },
       "content": {
        "cell": "9ef47cbc-677e-47aa-9d6b-c7a942c77b37",
        "part": "whole"
       },
       "id": "72a46a68-95f1-4dfc-8f0d-d25c96fff21a"
      }
     }
    },
    "a89e8bc7-34db-421b-8aff-74aab45784fe": {
     "id": "a89e8bc7-34db-421b-8aff-74aab45784fe",
     "prev": "3461813e-005a-4d95-ae4b-fb5d81a0fb21",
     "regions": {
      "fc7b72bb-86ad-46ed-982c-5a0da4e213a1": {
       "attrs": {
        "height": 0.8,
        "width": 0.8,
        "x": 0.1,
        "y": 0.1
       },
       "content": {
        "cell": "6ecdf80d-e3a5-47bc-92b8-9e5cb90a21a8",
        "part": "whole"
       },
       "id": "fc7b72bb-86ad-46ed-982c-5a0da4e213a1"
      }
     }
    },
    "b12a9800-4ed1-47c7-a688-3abe6d0d10cb": {
     "id": "b12a9800-4ed1-47c7-a688-3abe6d0d10cb",
     "prev": "cbfc8fa0-0f7f-41dd-9d19-91c482088ee5",
     "regions": {
      "b3525bde-0c70-4f4b-a887-40ae5a69b8eb": {
       "attrs": {
        "height": 0.8,
        "width": 0.8,
        "x": 0.1,
        "y": 0.1
       },
       "content": {
        "cell": "f524ead4-e782-4dd8-ad81-2d2fb91d72d4",
        "part": "whole"
       },
       "id": "b3525bde-0c70-4f4b-a887-40ae5a69b8eb"
      }
     }
    },
    "c8358161-225f-49ec-a9da-341f0e56386f": {
     "id": "c8358161-225f-49ec-a9da-341f0e56386f",
     "prev": "3f8c03f4-d643-4bbd-8b49-358767b23868",
     "regions": {
      "3f7fd265-fd51-47a1-b90e-1b910823c258": {
       "attrs": {
        "height": 0.8,
        "width": 0.8,
        "x": 0.1,
        "y": 0.1
       },
       "content": {
        "cell": "a708d776-fa96-48f9-b2a4-fb46d36691d1",
        "part": "whole"
       },
       "id": "3f7fd265-fd51-47a1-b90e-1b910823c258"
      }
     }
    },
    "cbfc8fa0-0f7f-41dd-9d19-91c482088ee5": {
     "id": "cbfc8fa0-0f7f-41dd-9d19-91c482088ee5",
     "prev": "db6dac81-9716-41b2-a9f0-187d3b051286",
     "regions": {
      "d29ae587-3bb7-4c29-bf5b-e0d77c332c92": {
       "attrs": {
        "height": 0.8,
        "width": 0.8,
        "x": 0.1,
        "y": 0.1
       },
       "content": {
        "cell": "02fa1d29-5555-4a92-b094-71304103643f",
        "part": "whole"
       },
       "id": "d29ae587-3bb7-4c29-bf5b-e0d77c332c92"
      }
     }
    },
    "db6dac81-9716-41b2-a9f0-187d3b051286": {
     "id": "db6dac81-9716-41b2-a9f0-187d3b051286",
     "layout": "manual",
     "prev": "985533f4-fe36-47b4-b190-26cd5214027b",
     "regions": {
      "aac2a2df-621f-4ebd-af4c-a4d3741f90db": {
       "attrs": {
        "height": 1,
        "pad": 0.01,
        "treemap:weight": 1,
        "width": 1,
        "x": 0,
        "y": 0
       },
       "content": {
        "cell": "509e456a-791f-40cc-8638-071375faaecc",
        "part": "whole"
       },
       "id": "aac2a2df-621f-4ebd-af4c-a4d3741f90db"
      }
     }
    },
    "f4067148-a377-4d9c-9047-abef2a3933f2": {
     "id": "f4067148-a377-4d9c-9047-abef2a3933f2",
     "prev": "fabfc1b8-1957-460a-8179-ebd9092161b0",
     "regions": {
      "5ce8bc04-1eab-4be1-b1df-4287f513c4c3": {
       "attrs": {
        "height": 0.8,
        "width": 0.8,
        "x": 0.1,
        "y": 0.1
       },
       "content": {
        "cell": "8719910a-923c-41b7-ad1f-9c5363cbec28",
        "part": "whole"
       },
       "id": "5ce8bc04-1eab-4be1-b1df-4287f513c4c3"
      }
     }
    },
    "fabfc1b8-1957-460a-8179-ebd9092161b0": {
     "id": "fabfc1b8-1957-460a-8179-ebd9092161b0",
     "prev": "283e303d-3c3a-4356-8ca5-d235073bc0f4",
     "regions": {
      "690e5b43-7217-4de4-9757-e30adad9111f": {
       "attrs": {
        "height": 0.8,
        "width": 0.8,
        "x": 0.1,
        "y": 0.1
       },
       "content": {
        "cell": "f8971090-fc96-4070-9732-2744b6b33145",
        "part": "whole"
       },
       "id": "690e5b43-7217-4de4-9757-e30adad9111f"
      }
     }
    }
   },
   "themes": {}
  }
 },
 "nbformat": 4,
 "nbformat_minor": 0
}
