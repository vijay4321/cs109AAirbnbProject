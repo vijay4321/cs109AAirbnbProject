{
 "cells": [
  {
   "cell_type": "markdown",
   "metadata": {},
   "source": [
    "# CS 109A/AC 209A/STAT 121A Data Science: Airbnb Project\n",
    "\n",
    "\n",
    "## Build an Improved Model\n",
    "\n",
    "\n",
    "**Harvard University**<br>\n",
    "**Fall 2016**<br>\n",
    "**Team: Stephen Camera-Murray, Himani Garg, and Vijay Thangella**<br>\n",
    "**TF: Christine Hwang ** "
   ]
  },
  {
   "cell_type": "markdown",
   "metadata": {
    "collapsed": true
   },
   "source": [
    "## IV. Build an Improved Model"
   ]
  },
  {
   "cell_type": "markdown",
   "metadata": {},
   "source": [
    "Import libraries"
   ]
  },
  {
   "cell_type": "code",
   "execution_count": 100,
   "metadata": {
    "collapsed": false
   },
   "outputs": [],
   "source": [
    "# import libraries\n",
    "import warnings\n",
    "import numpy as np\n",
    "import pandas as pd\n",
    "import matplotlib\n",
    "import matplotlib.pyplot as plt\n",
    "# import seaborn as sns\n",
    "#from sklearn.model_selection import train_test_split\n",
    "from sklearn.metrics import f1_score\n",
    "import random\n",
    "from sklearn import preprocessing\n",
    "from sklearn.cross_validation import KFold\n",
    "from sklearn.linear_model import LogisticRegression\n",
    "from sklearn.discriminant_analysis import LinearDiscriminantAnalysis as LDA\n",
    "from sklearn.discriminant_analysis import QuadraticDiscriminantAnalysis as QDA\n",
    "from sklearn.neighbors import KNeighborsClassifier as KNN\n",
    "from sklearn.tree import DecisionTreeClassifier as DecisionTree\n",
    "from sklearn.ensemble import RandomForestClassifier as RandomForest\n",
    "from sklearn.svm import SVC\n",
    "from sklearn.cross_validation import train_test_split\n",
    "from sklearn.metrics import classification_report\n",
    "from sklearn.grid_search import GridSearchCV\n",
    "from sklearn.grid_search import RandomizedSearchCV\n",
    "\n",
    "from sklearn.metrics import confusion_matrix\n",
    "from sklearn.metrics import roc_curve, auc\n",
    "\n",
    "# suppress warnings\n",
    "warnings.filterwarnings ( 'ignore' )\n",
    "%matplotlib inline"
   ]
  },
  {
   "cell_type": "markdown",
   "metadata": {},
   "source": [
    "We begin by loading the listings dataset we saved after cleansing from milestone #4:\n",
    "\n",
    "cleansed_listings.csv.gz - the New York City Airbnb listing data from January 2015 (cleansed)\n"
   ]
  },
  {
   "cell_type": "code",
   "execution_count": 101,
   "metadata": {
    "collapsed": false
   },
   "outputs": [
    {
     "data": {
      "text/html": [
       "<div>\n",
       "<table border=\"1\" class=\"dataframe\">\n",
       "  <thead>\n",
       "    <tr style=\"text-align: right;\">\n",
       "      <th></th>\n",
       "      <th>neighborhood</th>\n",
       "      <th>property_type</th>\n",
       "      <th>room_type</th>\n",
       "      <th>accommodates</th>\n",
       "      <th>bathrooms</th>\n",
       "      <th>bedrooms</th>\n",
       "      <th>beds</th>\n",
       "      <th>bed_type</th>\n",
       "      <th>guests_included</th>\n",
       "      <th>minimum_nights</th>\n",
       "      <th>...</th>\n",
       "      <th>review_scores_cleanliness</th>\n",
       "      <th>review_scores_checkin</th>\n",
       "      <th>review_scores_communication</th>\n",
       "      <th>review_scores_location</th>\n",
       "      <th>review_scores_value</th>\n",
       "      <th>host_listing_count</th>\n",
       "      <th>months_as_host</th>\n",
       "      <th>months_since_first_review</th>\n",
       "      <th>months_since_last_review</th>\n",
       "      <th>price_category</th>\n",
       "    </tr>\n",
       "    <tr>\n",
       "      <th>id</th>\n",
       "      <th></th>\n",
       "      <th></th>\n",
       "      <th></th>\n",
       "      <th></th>\n",
       "      <th></th>\n",
       "      <th></th>\n",
       "      <th></th>\n",
       "      <th></th>\n",
       "      <th></th>\n",
       "      <th></th>\n",
       "      <th></th>\n",
       "      <th></th>\n",
       "      <th></th>\n",
       "      <th></th>\n",
       "      <th></th>\n",
       "      <th></th>\n",
       "      <th></th>\n",
       "      <th></th>\n",
       "      <th></th>\n",
       "      <th></th>\n",
       "      <th></th>\n",
       "    </tr>\n",
       "  </thead>\n",
       "  <tbody>\n",
       "    <tr>\n",
       "      <th>1069266</th>\n",
       "      <td>Midtown East</td>\n",
       "      <td>Apartment</td>\n",
       "      <td>Entire home/apt</td>\n",
       "      <td>2</td>\n",
       "      <td>1.0</td>\n",
       "      <td>1.0</td>\n",
       "      <td>1.0</td>\n",
       "      <td>Real Bed</td>\n",
       "      <td>2</td>\n",
       "      <td>3</td>\n",
       "      <td>...</td>\n",
       "      <td>7.0</td>\n",
       "      <td>9.0</td>\n",
       "      <td>9.0</td>\n",
       "      <td>10.0</td>\n",
       "      <td>9.0</td>\n",
       "      <td>1</td>\n",
       "      <td>21</td>\n",
       "      <td>21</td>\n",
       "      <td>1</td>\n",
       "      <td>Mid</td>\n",
       "    </tr>\n",
       "    <tr>\n",
       "      <th>2061725</th>\n",
       "      <td>Bushwick</td>\n",
       "      <td>Apartment</td>\n",
       "      <td>Private room</td>\n",
       "      <td>2</td>\n",
       "      <td>1.0</td>\n",
       "      <td>1.0</td>\n",
       "      <td>2.0</td>\n",
       "      <td>Real Bed</td>\n",
       "      <td>1</td>\n",
       "      <td>3</td>\n",
       "      <td>...</td>\n",
       "      <td>10.0</td>\n",
       "      <td>10.0</td>\n",
       "      <td>10.0</td>\n",
       "      <td>9.0</td>\n",
       "      <td>10.0</td>\n",
       "      <td>4</td>\n",
       "      <td>24</td>\n",
       "      <td>11</td>\n",
       "      <td>1</td>\n",
       "      <td>Low</td>\n",
       "    </tr>\n",
       "  </tbody>\n",
       "</table>\n",
       "<p>2 rows × 28 columns</p>\n",
       "</div>"
      ],
      "text/plain": [
       "         neighborhood property_type        room_type  accommodates  bathrooms  \\\n",
       "id                                                                              \n",
       "1069266  Midtown East     Apartment  Entire home/apt             2        1.0   \n",
       "2061725      Bushwick     Apartment     Private room             2        1.0   \n",
       "\n",
       "         bedrooms  beds  bed_type  guests_included  minimum_nights  \\\n",
       "id                                                                   \n",
       "1069266       1.0   1.0  Real Bed                2               3   \n",
       "2061725       1.0   2.0  Real Bed                1               3   \n",
       "\n",
       "              ...        review_scores_cleanliness  review_scores_checkin  \\\n",
       "id            ...                                                           \n",
       "1069266       ...                              7.0                    9.0   \n",
       "2061725       ...                             10.0                   10.0   \n",
       "\n",
       "         review_scores_communication  review_scores_location  \\\n",
       "id                                                             \n",
       "1069266                          9.0                    10.0   \n",
       "2061725                         10.0                     9.0   \n",
       "\n",
       "         review_scores_value  host_listing_count  months_as_host  \\\n",
       "id                                                                 \n",
       "1069266                  9.0                   1              21   \n",
       "2061725                 10.0                   4              24   \n",
       "\n",
       "         months_since_first_review  months_since_last_review  price_category  \n",
       "id                                                                            \n",
       "1069266                         21                         1             Mid  \n",
       "2061725                         11                         1             Low  \n",
       "\n",
       "[2 rows x 28 columns]"
      ]
     },
     "execution_count": 101,
     "metadata": {},
     "output_type": "execute_result"
    }
   ],
   "source": [
    "# load listings data into a pandas df\n",
    "listingsDF = pd.read_csv (  './datasets/cleansed_listings_with_target.tab.gz', sep = '\\t', index_col = 'id', compression = 'gzip' )\n",
    "listingsDF.drop('name', axis=1, inplace=True)\n",
    "listingsDF.drop('square_feet', axis=1, inplace=True)\n",
    "# display the first two rows\n",
    "listingsDF.head ( n = 2 )\n"
   ]
  },
  {
   "cell_type": "markdown",
   "metadata": {},
   "source": [
    "Convert the response variables into individual classes of 0 ,1 and 2"
   ]
  },
  {
   "cell_type": "code",
   "execution_count": 104,
   "metadata": {
    "collapsed": false
   },
   "outputs": [],
   "source": [
    "listingsDF.loc[listingsDF['price_category'] == 'Low', 'price_category'] = 0\n",
    "listingsDF.loc[listingsDF['price_category'] == 'Mid', 'price_category'] = 1\n",
    "listingsDF.loc[listingsDF['price_category'] == 'High', 'price_category'] = 2\n",
    "\n"
   ]
  },
  {
   "cell_type": "markdown",
   "metadata": {},
   "source": [
    "Lets dig into all these predictors to understand what predictors could be categorical and what predictors could be continous variables by looking at ranges and discrete values of all predictors"
   ]
  },
  {
   "cell_type": "code",
   "execution_count": 102,
   "metadata": {
    "collapsed": false
   },
   "outputs": [
    {
     "name": "stdout",
     "output_type": "stream",
     "text": [
      "(19526, 28)\n",
      "(Continuous) range of values of predictor 0 neighborhood : Allerton to Woodside\n",
      "(Continuous) range of values of predictor 1 property_type : nan to Villa\n",
      "(Categorical) 2 unique values of predictor 2 room_type: ['Entire home/apt', 'Private room']\n",
      "(Categorical) 14 unique values of predictor 3 accommodates: [1L, 2L, 3L, 4L, 5L, 6L, 7L, 8L, 9L, 10L, 11L, 12L, 15L, 16L]\n",
      "(Categorical) 11 unique values of predictor 4 bathrooms: [0.0, 0.5, 1.0, 1.5, 2.0, 2.5, 3.0, 4.0, 4.5, 5.0, 5.5]\n",
      "(Categorical) 1 unique values of predictor 5 bedrooms: [1.0]\n",
      "(Categorical) 12 unique values of predictor 6 beds: [1.0, 2.0, 3.0, 4.0, 5.0, 6.0, 7.0, 8.0, 9.0, 10.0, 12.0, 16.0]\n",
      "(Categorical) 5 unique values of predictor 7 bed_type: ['Airbed', 'Couch', 'Futon', 'Pull-out Sofa', 'Real Bed']\n",
      "(Categorical) 12 unique values of predictor 8 guests_included: [0L, 1L, 2L, 3L, 4L, 5L, 6L, 7L, 8L, 10L, 15L, 16L]\n",
      "(Continuous) range of values of predictor 9 minimum_nights : 1 to 30\n",
      "(Continuous) range of values of predictor 10 maximum_nights : 1 to 2147483647\n",
      "(Continuous) range of values of predictor 11 availability_30 : 0 to 30\n",
      "(Continuous) range of values of predictor 12 availability_60 : 0 to 60\n",
      "(Continuous) range of values of predictor 13 availability_90 : 0 to 90\n",
      "(Continuous) range of values of predictor 14 availability_365 : 0 to 365\n",
      "(Continuous) range of values of predictor 15 number_of_reviews : 0 to 221\n",
      "(Continuous) range of values of predictor 16 review_scores_rating : 20.0 to 100.0\n",
      "(Categorical) 10 unique values of predictor 17 review_scores_accuracy: [2.0, 3.0, 4.0, 5.0, 6.0, 7.0, 8.0, 9.0, 9.372959678019999, 10.0]\n",
      "(Categorical) 10 unique values of predictor 18 review_scores_cleanliness: [2.0, 3.0, 4.0, 5.0, 6.0, 7.0, 8.0, 9.0, 9.00387596899, 10.0]\n",
      "(Categorical) 9 unique values of predictor 19 review_scores_checkin: [2.0, 4.0, 5.0, 6.0, 7.0, 8.0, 9.0, 9.58485503466, 10.0]\n",
      "(Categorical) 9 unique values of predictor 20 review_scores_communication: [2.0, 4.0, 5.0, 6.0, 7.0, 8.0, 9.0, 9.67540983607, 10.0]\n",
      "(Categorical) 9 unique values of predictor 21 review_scores_location: [2.0, 4.0, 5.0, 6.0, 7.0, 8.0, 9.0, 9.2463660082, 10.0]\n",
      "(Categorical) 10 unique values of predictor 22 review_scores_value: [2.0, 3.0, 4.0, 5.0, 6.0, 7.0, 8.0, 9.0, 9.14075896518, 10.0]\n",
      "(Continuous) range of values of predictor 23 host_listing_count : 1 to 28\n",
      "(Continuous) range of values of predictor 24 months_as_host : 0 to 79\n",
      "(Continuous) range of values of predictor 25 months_since_first_review : 0 to 75\n",
      "(Continuous) range of values of predictor 26 months_since_last_review : 0 to 63\n"
     ]
    }
   ],
   "source": [
    "print listingsDF.shape\n",
    "x_pred = listingsDF.values[:,:-1]\n",
    "for i in range(x_pred.shape[1]):\n",
    "    vals = np.unique(x_pred[:, i])\n",
    "    cleanedvals = [x for x in vals if str(x) != 'nan']\n",
    "    if len(cleanedvals) < 15 :\n",
    "        print '(Categorical) {} unique values of predictor {} {}: {}'.format(len(cleanedvals), i,listingsDF[[i]].columns.values[0], cleanedvals)\n",
    "    else:\n",
    "        print '(Continuous) range of values of predictor', i, '{} : {} to {}'.format(listingsDF[[i]].columns.values[0],x_pred[:, i].min(), x_pred[:, i].max())\n",
    "        "
   ]
  },
  {
   "cell_type": "code",
   "execution_count": 105,
   "metadata": {
    "collapsed": false
   },
   "outputs": [],
   "source": [
    "# Categoricals will be int or str (object), the rest float\n",
    "\n",
    "# List of columns to be converted to floating point\n",
    "to_float = ['accommodates', 'bathrooms', 'bedrooms', 'beds','guests_included','minimum_nights','maximum_nights', \n",
    "            'availability_30', 'availability_60', 'availability_90', 'availability_365', 'number_of_reviews',\n",
    "            'review_scores_rating', 'host_listing_count', 'months_as_host','months_since_first_review', \n",
    "            'months_since_last_review',]\n",
    "\n",
    "# Converted columns to floating point\n",
    "for feature_name in to_float:\n",
    "    listingsDF[feature_name] = listingsDF[feature_name].astype(float)\n",
    "\n"
   ]
  },
  {
   "cell_type": "code",
   "execution_count": 106,
   "metadata": {
    "collapsed": false
   },
   "outputs": [],
   "source": [
    "#Encode categorical variables\n",
    "def encode_categorical(array):\n",
    "    if not array.dtype == np.dtype('float64'):\n",
    "        return preprocessing.LabelEncoder().fit_transform(array) \n",
    "    else:\n",
    "        return array\n",
    "    \n",
    "# Categorical columns for use in one-hot encoder\n",
    "categorical = (listingsDF.dtypes.values != np.dtype('float64'))\n",
    "\n",
    "# Encode all labels\n",
    "listingsDF = listingsDF.apply(encode_categorical)\n",
    "\n"
   ]
  },
  {
   "cell_type": "code",
   "execution_count": 107,
   "metadata": {
    "collapsed": true
   },
   "outputs": [],
   "source": [
    "x = listingsDF.values[:, :-1]\n",
    "y = listingsDF.values[:, -1]\n",
    "\n",
    "# Apply one hot endcoing\n",
    "encoder = preprocessing.OneHotEncoder(categorical_features=categorical[:-1], sparse=False)  # Last value in mask is y\n",
    "x = encoder.fit_transform(x)"
   ]
  },
  {
   "cell_type": "code",
   "execution_count": 108,
   "metadata": {
    "collapsed": false
   },
   "outputs": [
    {
     "data": {
      "text/html": [
       "<div>\n",
       "<table border=\"1\" class=\"dataframe\">\n",
       "  <thead>\n",
       "    <tr style=\"text-align: right;\">\n",
       "      <th></th>\n",
       "      <th>neighborhood</th>\n",
       "      <th>property_type</th>\n",
       "      <th>room_type</th>\n",
       "      <th>accommodates</th>\n",
       "      <th>bathrooms</th>\n",
       "      <th>bedrooms</th>\n",
       "      <th>beds</th>\n",
       "      <th>bed_type</th>\n",
       "      <th>guests_included</th>\n",
       "      <th>minimum_nights</th>\n",
       "      <th>...</th>\n",
       "      <th>review_scores_cleanliness</th>\n",
       "      <th>review_scores_checkin</th>\n",
       "      <th>review_scores_communication</th>\n",
       "      <th>review_scores_location</th>\n",
       "      <th>review_scores_value</th>\n",
       "      <th>host_listing_count</th>\n",
       "      <th>months_as_host</th>\n",
       "      <th>months_since_first_review</th>\n",
       "      <th>months_since_last_review</th>\n",
       "      <th>price_category</th>\n",
       "    </tr>\n",
       "    <tr>\n",
       "      <th>id</th>\n",
       "      <th></th>\n",
       "      <th></th>\n",
       "      <th></th>\n",
       "      <th></th>\n",
       "      <th></th>\n",
       "      <th></th>\n",
       "      <th></th>\n",
       "      <th></th>\n",
       "      <th></th>\n",
       "      <th></th>\n",
       "      <th></th>\n",
       "      <th></th>\n",
       "      <th></th>\n",
       "      <th></th>\n",
       "      <th></th>\n",
       "      <th></th>\n",
       "      <th></th>\n",
       "      <th></th>\n",
       "      <th></th>\n",
       "      <th></th>\n",
       "      <th></th>\n",
       "    </tr>\n",
       "  </thead>\n",
       "  <tbody>\n",
       "    <tr>\n",
       "      <th>1069266</th>\n",
       "      <td>106</td>\n",
       "      <td>1</td>\n",
       "      <td>0</td>\n",
       "      <td>2.0</td>\n",
       "      <td>1.0</td>\n",
       "      <td>1.0</td>\n",
       "      <td>1.0</td>\n",
       "      <td>4</td>\n",
       "      <td>2.0</td>\n",
       "      <td>3.0</td>\n",
       "      <td>...</td>\n",
       "      <td>7.0</td>\n",
       "      <td>9.0</td>\n",
       "      <td>9.0</td>\n",
       "      <td>10.0</td>\n",
       "      <td>9.0</td>\n",
       "      <td>1.0</td>\n",
       "      <td>21.0</td>\n",
       "      <td>21.0</td>\n",
       "      <td>1.0</td>\n",
       "      <td>1</td>\n",
       "    </tr>\n",
       "    <tr>\n",
       "      <th>2061725</th>\n",
       "      <td>19</td>\n",
       "      <td>1</td>\n",
       "      <td>1</td>\n",
       "      <td>2.0</td>\n",
       "      <td>1.0</td>\n",
       "      <td>1.0</td>\n",
       "      <td>2.0</td>\n",
       "      <td>4</td>\n",
       "      <td>1.0</td>\n",
       "      <td>3.0</td>\n",
       "      <td>...</td>\n",
       "      <td>10.0</td>\n",
       "      <td>10.0</td>\n",
       "      <td>10.0</td>\n",
       "      <td>9.0</td>\n",
       "      <td>10.0</td>\n",
       "      <td>4.0</td>\n",
       "      <td>24.0</td>\n",
       "      <td>11.0</td>\n",
       "      <td>1.0</td>\n",
       "      <td>0</td>\n",
       "    </tr>\n",
       "  </tbody>\n",
       "</table>\n",
       "<p>2 rows × 28 columns</p>\n",
       "</div>"
      ],
      "text/plain": [
       "         neighborhood  property_type  room_type  accommodates  bathrooms  \\\n",
       "id                                                                         \n",
       "1069266           106              1          0           2.0        1.0   \n",
       "2061725            19              1          1           2.0        1.0   \n",
       "\n",
       "         bedrooms  beds  bed_type  guests_included  minimum_nights  \\\n",
       "id                                                                   \n",
       "1069266       1.0   1.0         4              2.0             3.0   \n",
       "2061725       1.0   2.0         4              1.0             3.0   \n",
       "\n",
       "              ...        review_scores_cleanliness  review_scores_checkin  \\\n",
       "id            ...                                                           \n",
       "1069266       ...                              7.0                    9.0   \n",
       "2061725       ...                             10.0                   10.0   \n",
       "\n",
       "         review_scores_communication  review_scores_location  \\\n",
       "id                                                             \n",
       "1069266                          9.0                    10.0   \n",
       "2061725                         10.0                     9.0   \n",
       "\n",
       "         review_scores_value  host_listing_count  months_as_host  \\\n",
       "id                                                                 \n",
       "1069266                  9.0                 1.0            21.0   \n",
       "2061725                 10.0                 4.0            24.0   \n",
       "\n",
       "         months_since_first_review  months_since_last_review  price_category  \n",
       "id                                                                            \n",
       "1069266                       21.0                       1.0               1  \n",
       "2061725                       11.0                       1.0               0  \n",
       "\n",
       "[2 rows x 28 columns]"
      ]
     },
     "execution_count": 108,
     "metadata": {},
     "output_type": "execute_result"
    }
   ],
   "source": [
    "listingsDF.head ( n = 2 )\n",
    "\n",
    "#listingsDF[listingsDF['price_category'] ==2]['neighborhood'].unique()\n"
   ]
  },
  {
   "cell_type": "code",
   "execution_count": 131,
   "metadata": {
    "collapsed": false
   },
   "outputs": [
    {
     "name": "stdout",
     "output_type": "stream",
     "text": [
      "(20692L, 227L)\n"
     ]
    }
   ],
   "source": [
    "#Split the data into train and test datasets\n",
    "print x.shape\n",
    "x_train, x_test, y_train, y_test = train_test_split(x, y, test_size=0.3, random_state=42)"
   ]
  },
  {
   "cell_type": "code",
   "execution_count": 110,
   "metadata": {
    "collapsed": false
   },
   "outputs": [],
   "source": [
    "#Function for computing the accuracy a given model on the entire test set, the accuracy on class 0 in the test set\n",
    "#and the accuracy on class 1\n",
    "score = lambda model, x_test, y_test: pd.Series([model.score(x_test, y_test), \n",
    "                                                 model.score(x_test[y_test==0], y_test[y_test==0]),\n",
    "                                                 model.score(x_test[y_test==1], y_test[y_test==1]),\n",
    "                                                 model.score(x_test[y_test==2], y_test[y_test==2])],\n",
    "                                                index=['overall accuracy', 'accuracy on class 0', 'accuracy on class 1','accuracy on class 2']\n",
    "                                                )"
   ]
  },
  {
   "cell_type": "code",
   "execution_count": 111,
   "metadata": {
    "collapsed": false
   },
   "outputs": [
    {
     "name": "stdout",
     "output_type": "stream",
     "text": [
      "unweighted log\n",
      "weighted log\n",
      "lda\n",
      "qda\n",
      "tree\n",
      "rf\n",
      "svm\n"
     ]
    }
   ],
   "source": [
    "# Run various models to check out the best model to move with\n",
    "\n",
    "\n",
    "unweighted_logistic = LogisticRegression()\n",
    "unweighted_logistic.fit(x_train, y_train)\n",
    "\n",
    "unweighted_log_scores = score(unweighted_logistic, x_test, y_test)\n",
    "print 'unweighted log'\n",
    "\n",
    "\n",
    "#Weighted logistic regression\n",
    "weighted_logistic = LogisticRegression(class_weight='balanced')\n",
    "weighted_logistic.fit(x_train, y_train)\n",
    "\n",
    "weighted_log_scores = score(weighted_logistic, x_test, y_test)\n",
    "print 'weighted log'\n",
    "\n",
    "#LDA\n",
    "lda = LDA()\n",
    "lda.fit(x_train, y_train)\n",
    "\n",
    "lda_scores = score(lda, x_test, y_test)\n",
    "print 'lda'\n",
    "\n",
    "#QDA\n",
    "qda = QDA()\n",
    "qda.fit(x_train, y_train)\n",
    "\n",
    "qda_scores = score(qda, x_test, y_test)\n",
    "print 'qda'\n",
    "\n",
    "#Decision Tree\n",
    "tree = DecisionTree(max_depth=6)\n",
    "tree.fit(x_train, y_train)\n",
    "\n",
    "tree_scores = score(tree, x_test, y_test)\n",
    "print 'tree'\n",
    "\n",
    "#Random Forest\n",
    "rf = RandomForest(class_weight='balanced',oob_score= True)\n",
    "rf.fit(x_train, y_train)\n",
    "\n",
    "rf_scores = score(rf, x_test, y_test)\n",
    "\n",
    "print 'rf'\n",
    "\n",
    "#SVM\n",
    "svm = SVC(kernel='rbf', class_weight = 'balanced')\n",
    "svm= svm.fit(x_train, y_train)\n",
    "\n",
    "svm_scores = score(svm, x_test, y_test)\n",
    "\n",
    "print 'svm'"
   ]
  },
  {
   "cell_type": "code",
   "execution_count": 112,
   "metadata": {
    "collapsed": false
   },
   "outputs": [
    {
     "data": {
      "text/html": [
       "<div>\n",
       "<table border=\"1\" class=\"dataframe\">\n",
       "  <thead>\n",
       "    <tr style=\"text-align: right;\">\n",
       "      <th></th>\n",
       "      <th>lda</th>\n",
       "      <th>qda</th>\n",
       "      <th>rf</th>\n",
       "      <th>svm</th>\n",
       "      <th>tree</th>\n",
       "      <th>unweighted logistic</th>\n",
       "      <th>weighted logistic</th>\n",
       "    </tr>\n",
       "  </thead>\n",
       "  <tbody>\n",
       "    <tr>\n",
       "      <th>overall accuracy</th>\n",
       "      <td>0.776033</td>\n",
       "      <td>0.093547</td>\n",
       "      <td>0.753670</td>\n",
       "      <td>0.516046</td>\n",
       "      <td>0.750427</td>\n",
       "      <td>0.55309</td>\n",
       "      <td>0.557187</td>\n",
       "    </tr>\n",
       "    <tr>\n",
       "      <th>accuracy on class 0</th>\n",
       "      <td>0.857716</td>\n",
       "      <td>0.033951</td>\n",
       "      <td>0.847222</td>\n",
       "      <td>0.553086</td>\n",
       "      <td>0.850000</td>\n",
       "      <td>1.00000</td>\n",
       "      <td>0.981481</td>\n",
       "    </tr>\n",
       "    <tr>\n",
       "      <th>accuracy on class 1</th>\n",
       "      <td>0.742035</td>\n",
       "      <td>0.038053</td>\n",
       "      <td>0.720354</td>\n",
       "      <td>0.489823</td>\n",
       "      <td>0.709292</td>\n",
       "      <td>0.00000</td>\n",
       "      <td>0.000000</td>\n",
       "    </tr>\n",
       "    <tr>\n",
       "      <th>accuracy on class 2</th>\n",
       "      <td>0.251397</td>\n",
       "      <td>0.983240</td>\n",
       "      <td>0.117318</td>\n",
       "      <td>0.346369</td>\n",
       "      <td>0.108939</td>\n",
       "      <td>0.00000</td>\n",
       "      <td>0.234637</td>\n",
       "    </tr>\n",
       "  </tbody>\n",
       "</table>\n",
       "</div>"
      ],
      "text/plain": [
       "                          lda       qda        rf       svm      tree  \\\n",
       "overall accuracy     0.776033  0.093547  0.753670  0.516046  0.750427   \n",
       "accuracy on class 0  0.857716  0.033951  0.847222  0.553086  0.850000   \n",
       "accuracy on class 1  0.742035  0.038053  0.720354  0.489823  0.709292   \n",
       "accuracy on class 2  0.251397  0.983240  0.117318  0.346369  0.108939   \n",
       "\n",
       "                     unweighted logistic  weighted logistic  \n",
       "overall accuracy                 0.55309           0.557187  \n",
       "accuracy on class 0              1.00000           0.981481  \n",
       "accuracy on class 1              0.00000           0.000000  \n",
       "accuracy on class 2              0.00000           0.234637  "
      ]
     },
     "execution_count": 112,
     "metadata": {},
     "output_type": "execute_result"
    }
   ],
   "source": [
    "#Score Dataframe\n",
    "score_df = pd.DataFrame({#'knn': knn_scores, \n",
    "                         'unweighted logistic': unweighted_log_scores,\n",
    "                         'weighted logistic': weighted_log_scores,\n",
    "                         'lda': lda_scores,\n",
    "                         'qda': qda_scores,\n",
    "                         'tree': tree_scores,\n",
    "                         'rf': rf_scores,\n",
    "                         'svm': svm_scores })\n",
    "score_df\n",
    "\n"
   ]
  },
  {
   "cell_type": "markdown",
   "metadata": {},
   "source": [
    "So Looking at all the models, after balancing out the class_weights ,lda ,tree and random forest worked better. QDA is the only model which worked better with class2 than anyother model but did poor on class 0 and class1.Before we jump on to pick a model lets analyse to see which model would be best to move with\n",
    "Logistic/weighted logistic Regression: Both these didnt do any good on class1 and more over to move with this model all of its basic assumptions need to be met\n",
    "LDA: This is better but to move ahead the data distributon in two classes should be multivariate normal\n",
    "QDA: To test for assumptions , like the data distributon in two classes to be multivariate normal is tough think to show as there are many predictors . More over QDA didnt perform much good.  However the assumptions must be met first before anything else. Either we can do pca analysis and reduce the dimensions so that proving the assumptions might not be difficult if we can get into 2 pca components \n",
    "SVM:no assuptions needed as long as support vectors dont change much with the change in dataste , SVM can be the best model. However SVM did equally bad on all classes.\n",
    "Random Forest: Like lda and tree , random forest looked promising too and with no assumptions needed one could take advantage of it properly tuned"
   ]
  },
  {
   "cell_type": "markdown",
   "metadata": {},
   "source": [
    "#### Approach the imbalance problem:\n",
    "\n",
    "When classes are imbalanced, one of the ways is to oversample the data or undersample the data or use class_weights. However here in this case instead of oversampling to make it balanced, we oversample the minority classes a bit more than what they are instead of making it completely balanced. And then we still can use class_weights to further balance. This way we can reduce the implicatins of too much oversampling\n",
    "\n",
    "\n"
   ]
  },
  {
   "cell_type": "markdown",
   "metadata": {},
   "source": [
    "## With Oversampling"
   ]
  },
  {
   "cell_type": "code",
   "execution_count": 113,
   "metadata": {
    "collapsed": false
   },
   "outputs": [
    {
     "name": "stdout",
     "output_type": "stream",
     "text": [
      "(10761L, 28L)\n",
      "(20692L, 28L)\n"
     ]
    }
   ],
   "source": [
    "# Over Sampling the minority classes to make it little less unbalanced , not making it totally balanced\n",
    "\n",
    "data_class0= listingsDF[listingsDF.values[:,-1] ==0].values\n",
    "\n",
    "print data_class0.shape\n",
    "data_class1= listingsDF[listingsDF.values[:,-1] ==1].values\n",
    "data_class2= listingsDF[listingsDF.values[:,-1] ==2].values\n",
    "\n",
    "data_df_total = listingsDF.values.copy()\n",
    "dataResampled_class1= data_class1.copy()\n",
    "dataResampled_class2= data_class2.copy()\n",
    "# Tha ranges are picked based on proportions of each class and making the ratio to 60:20:20\n",
    "for i in range(10):\n",
    "    k=1\n",
    "    #dataResampled_class1= np.concatenate([dataResampled_class2,data_class2[::1]])\n",
    "for i in range(1):\n",
    "    dataResampled_class2= np.concatenate([dataResampled_class2,data_class2[::1]])\n",
    "    \n",
    "    \n",
    "\n",
    "data_df_total= np.concatenate([dataResampled_class1,dataResampled_class2,data_class0])\n",
    "\n",
    "np.random.shuffle(data_df_total)\n",
    "\n",
    "print data_df_total.shape"
   ]
  },
  {
   "cell_type": "code",
   "execution_count": 119,
   "metadata": {
    "collapsed": true
   },
   "outputs": [],
   "source": [
    "# Get numpy array from data\n",
    "x = data_df_total[:, :-1]\n",
    "y = data_df_total[:, -1]\n",
    "\n",
    "# Apply one hot endcoing\n",
    "encoder = preprocessing.OneHotEncoder(categorical_features=categorical[:-1], sparse=False)  # Last value in mask is y\n",
    "x = encoder.fit_transform(x)\n",
    "\n",
    "x_train, x_test, y_train, y_test = train_test_split(x, y, test_size=0.3, random_state=42)"
   ]
  },
  {
   "cell_type": "code",
   "execution_count": 124,
   "metadata": {
    "collapsed": false
   },
   "outputs": [
    {
     "name": "stdout",
     "output_type": "stream",
     "text": [
      "(14484L, 227L)\n",
      "(6208L, 227L)\n"
     ]
    }
   ],
   "source": [
    "print x_train.shape\n",
    "print x_test.shape"
   ]
  },
  {
   "cell_type": "code",
   "execution_count": 125,
   "metadata": {
    "collapsed": false
   },
   "outputs": [
    {
     "name": "stdout",
     "output_type": "stream",
     "text": [
      "unweighted log\n",
      "weighted log\n",
      "lda\n",
      "qda\n",
      "tree\n",
      "rf\n",
      "svm\n"
     ]
    }
   ],
   "source": [
    "\n",
    "unweighted_logistic = LogisticRegression()\n",
    "unweighted_logistic.fit(x_train, y_train)\n",
    "\n",
    "unweighted_log_scores = score(unweighted_logistic, x_test, y_test)\n",
    "print 'unweighted log'\n",
    "\n",
    "\n",
    "#Weighted logistic regression\n",
    "weighted_logistic = LogisticRegression(class_weight='balanced')\n",
    "weighted_logistic.fit(x_train, y_train)\n",
    "\n",
    "weighted_log_scores = score(weighted_logistic, x_test, y_test)\n",
    "print 'weighted log'\n",
    "\n",
    "#LDA\n",
    "lda = LDA()\n",
    "lda.fit(x_train, y_train)\n",
    "\n",
    "lda_scores = score(lda, x_test, y_test)\n",
    "print 'lda'\n",
    "\n",
    "#QDA\n",
    "qda = QDA()\n",
    "qda.fit(x_train, y_train)\n",
    "\n",
    "qda_scores = score(qda, x_test, y_test)\n",
    "print 'qda'\n",
    "\n",
    "#Decision Tree\n",
    "tree = DecisionTree(max_depth=6)\n",
    "tree.fit(x_train, y_train)\n",
    "\n",
    "tree_scores = score(tree, x_test, y_test)\n",
    "print 'tree'\n",
    "\n",
    "#Random Forest\n",
    "rf = RandomForest(class_weight='balanced',oob_score= True)\n",
    "rf.fit(x_train, y_train)\n",
    "\n",
    "rf_scores = score(rf, x_test, y_test)\n",
    "\n",
    "print 'rf'\n",
    "\n",
    "#SVM\n",
    "svm = SVC(kernel='rbf', class_weight = 'balanced')\n",
    "svm= svm.fit(x_train, y_train)\n",
    "\n",
    "svm_scores = score(svm, x_test, y_test)\n",
    "\n",
    "print 'svm'"
   ]
  },
  {
   "cell_type": "code",
   "execution_count": 126,
   "metadata": {
    "collapsed": false
   },
   "outputs": [
    {
     "data": {
      "text/html": [
       "<div>\n",
       "<table border=\"1\" class=\"dataframe\">\n",
       "  <thead>\n",
       "    <tr style=\"text-align: right;\">\n",
       "      <th></th>\n",
       "      <th>lda</th>\n",
       "      <th>qda</th>\n",
       "      <th>rf</th>\n",
       "      <th>svm</th>\n",
       "      <th>tree</th>\n",
       "      <th>unweighted logistic</th>\n",
       "      <th>weighted logistic</th>\n",
       "    </tr>\n",
       "  </thead>\n",
       "  <tbody>\n",
       "    <tr>\n",
       "      <th>overall accuracy</th>\n",
       "      <td>0.750161</td>\n",
       "      <td>0.138209</td>\n",
       "      <td>0.774646</td>\n",
       "      <td>0.544459</td>\n",
       "      <td>0.720522</td>\n",
       "      <td>0.512887</td>\n",
       "      <td>0.512887</td>\n",
       "    </tr>\n",
       "    <tr>\n",
       "      <th>accuracy on class 0</th>\n",
       "      <td>0.866520</td>\n",
       "      <td>0.025440</td>\n",
       "      <td>0.854585</td>\n",
       "      <td>0.559673</td>\n",
       "      <td>0.846106</td>\n",
       "      <td>1.000000</td>\n",
       "      <td>0.999372</td>\n",
       "    </tr>\n",
       "    <tr>\n",
       "      <th>accuracy on class 1</th>\n",
       "      <td>0.698712</td>\n",
       "      <td>0.036481</td>\n",
       "      <td>0.681116</td>\n",
       "      <td>0.463948</td>\n",
       "      <td>0.727468</td>\n",
       "      <td>0.000000</td>\n",
       "      <td>0.000000</td>\n",
       "    </tr>\n",
       "    <tr>\n",
       "      <th>accuracy on class 2</th>\n",
       "      <td>0.389049</td>\n",
       "      <td>0.997118</td>\n",
       "      <td>0.721902</td>\n",
       "      <td>0.744957</td>\n",
       "      <td>0.121037</td>\n",
       "      <td>0.000000</td>\n",
       "      <td>0.002882</td>\n",
       "    </tr>\n",
       "  </tbody>\n",
       "</table>\n",
       "</div>"
      ],
      "text/plain": [
       "                          lda       qda        rf       svm      tree  \\\n",
       "overall accuracy     0.750161  0.138209  0.774646  0.544459  0.720522   \n",
       "accuracy on class 0  0.866520  0.025440  0.854585  0.559673  0.846106   \n",
       "accuracy on class 1  0.698712  0.036481  0.681116  0.463948  0.727468   \n",
       "accuracy on class 2  0.389049  0.997118  0.721902  0.744957  0.121037   \n",
       "\n",
       "                     unweighted logistic  weighted logistic  \n",
       "overall accuracy                0.512887           0.512887  \n",
       "accuracy on class 0             1.000000           0.999372  \n",
       "accuracy on class 1             0.000000           0.000000  \n",
       "accuracy on class 2             0.000000           0.002882  "
      ]
     },
     "execution_count": 126,
     "metadata": {},
     "output_type": "execute_result"
    }
   ],
   "source": [
    "#Score Dataframe\n",
    "score_df = pd.DataFrame({#'knn': knn_scores, \n",
    "                         'unweighted logistic': unweighted_log_scores,\n",
    "                         'weighted logistic': weighted_log_scores,\n",
    "                         'lda': lda_scores,\n",
    "                         'qda': qda_scores,\n",
    "                         'tree': tree_scores,\n",
    "                         'rf': rf_scores,\n",
    "                         'svm': svm_scores })\n",
    "score_df"
   ]
  },
  {
   "cell_type": "markdown",
   "metadata": {},
   "source": [
    "With just a little oversampling we can see very high improved performance from RF model on all 3 classes compared to any other models. With no doubt we can pick this RF model and tune it to further improve the model\n",
    "\n",
    "Probably before oversampling , the minority classes are too low to be considred in every oob sample that has been used, which might be  the reason why RF before oversampling fared very bad on class2. However with littlebit oversampling every oob sample would have had enough minority classes to be modeled upon and could be the reason why this RF fared better \n",
    "Since this is random forest we dont have to necessarily do cross validation as we use OOB samples. so over sampling the data a bit gives random forest more look at the full dataset at the same time we made minority classes little less minor. All the crossvalidation testing will be done in OOB samples"
   ]
  },
  {
   "cell_type": "markdown",
   "metadata": {},
   "source": [
    "#### Tune the hyper parameters"
   ]
  },
  {
   "cell_type": "code",
   "execution_count": 132,
   "metadata": {
    "collapsed": false
   },
   "outputs": [
    {
     "name": "stdout",
     "output_type": "stream",
     "text": [
      "{'n_estimators': 400}\n"
     ]
    }
   ],
   "source": [
    "parameters = {\"n_estimators\": [ 100,200,300,400,500]}\n",
    "\n",
    "cv_rfc = GridSearchCV(RandomForest(oob_score=True, max_features='auto'), param_grid=parameters, n_jobs=5, cv=5)\n",
    "\n",
    "cv_rfc.fit(x_train, y_train)\n",
    "\n",
    "print cv_rfc.best_params_"
   ]
  },
  {
   "cell_type": "code",
   "execution_count": 135,
   "metadata": {
    "collapsed": false
   },
   "outputs": [
    {
     "name": "stdout",
     "output_type": "stream",
     "text": [
      "depth: 5\n",
      "depth: 7\n",
      "depth: 9\n",
      "depth: 11\n",
      "depth: 13\n",
      "depth: 15\n",
      "depth: 17\n",
      "depth: 19\n",
      "depth: 21\n",
      "depth: 23\n",
      "depth: 25\n",
      "depth: 27\n",
      "depth: 29\n",
      "depth: 31\n",
      "depth: 33\n",
      "depth: 35\n",
      "depth: 37\n",
      "depth: 39\n",
      "depth: 41\n",
      "depth: 43\n",
      "depth: 45\n",
      "depth: 47\n",
      "depth: 49\n",
      "depth: 51\n",
      "depth: 53\n",
      "depth: 55\n",
      "depth: 57\n",
      "depth: 59\n",
      "depth: 61\n",
      "depth: 63\n",
      "depth: 65\n",
      "depth: 67\n",
      "depth: 69\n",
      "19\n"
     ]
    }
   ],
   "source": [
    "depths = range(5, 70,2)\n",
    "kf = KFold(len(x_train), n_folds=5)\n",
    "profits = []\n",
    "\n",
    "for depth in depths:\n",
    "    print 'depth:', depth\n",
    "    validation_profits = []\n",
    "    for train_index, test_index in kf:\n",
    "        x_validate_train, x_validate_test = x_train[train_index], x_train[test_index]\n",
    "        y_validate_train, y_validate_test = y_train[train_index], y_train[test_index]\n",
    "        \n",
    "        clfForest = RandomForest(class_weight ='balanced',max_depth = depth, oob_score = True,\n",
    "                                        n_estimators =400, )\n",
    "        clfForest.fit(x_validate_train, y_validate_train)\n",
    "        score=clfForest.score(x_validate_test,y_validate_test)\n",
    "        y_pred = clfForest.predict(x_validate_test)\n",
    "        validation_profits.append(score)\n",
    "        \n",
    "    profits.append(np.mean(validation_profits))\n",
    "\n",
    "best_depth = np.argmax(profits) + 1\n",
    "print best_depth\n"
   ]
  },
  {
   "cell_type": "markdown",
   "metadata": {},
   "source": [
    "Depth = 19 is the corresponding max_dapth= 41"
   ]
  },
  {
   "cell_type": "code",
   "execution_count": null,
   "metadata": {
    "collapsed": true
   },
   "outputs": [],
   "source": [
    "\n",
    "parameters = {\"max_depth\": [22,26,28,30,32,34,35,36,37,38,39,40], \"n_estimators\": [ 100,200,300,400,500]}\n",
    "\n",
    "cv_rfc = GridSearchCV(RandomForest(oob_score=True, max_features='auto'), param_grid=parameters, n_jobs=5, cv=5)\n",
    "\n",
    "cv_rfc.fit(x_train, y_train)\n",
    "\n",
    "print cv_rfc.best_params_"
   ]
  },
  {
   "cell_type": "code",
   "execution_count": 141,
   "metadata": {
    "collapsed": false
   },
   "outputs": [
    {
     "name": "stdout",
     "output_type": "stream",
     "text": [
      "0.998550124275\n",
      "(14484L,)\n",
      "(14484L,)\n",
      "[[7576    0    1]\n",
      " [  17 5249    3]\n",
      " [   0    0 1638]]\n",
      "             precision    recall  f1-score   support\n",
      "\n",
      "    class 0       1.00      1.00      1.00      7577\n",
      "    class 1       1.00      1.00      1.00      5269\n",
      "    class_2       1.00      1.00      1.00      1638\n",
      "\n",
      "avg / total       1.00      1.00      1.00     14484\n",
      "\n",
      "Train data Accuracy on Low price category: 0.999868021644\n",
      "Train data Accuracy on Mid price category:  0.996204213323\n",
      "Train data Accuracy on HIgh price category:  1.0\n",
      "0.796391752577\n",
      "[[2711  466    7]\n",
      " [ 542 1707   81]\n",
      " [  22  146  526]]\n",
      "             precision    recall  f1-score   support\n",
      "\n",
      "    class 0       0.83      0.85      0.84      3184\n",
      "    class 1       0.74      0.73      0.73      2330\n",
      "    class_2       0.86      0.76      0.80       694\n",
      "\n",
      "avg / total       0.80      0.80      0.80      6208\n",
      "\n",
      "Test data Accuracy on Low price category:  0.851444723618\n",
      "Test data Accuracy on Mid price category:  0.732618025751\n",
      "Test data Accuracy on High price category:  0.757925072046\n"
     ]
    }
   ],
   "source": [
    "target_names = ['class 0', 'class 1', 'class_2']\n",
    "\n",
    "clfForest = RandomForest(class_weight ='balanced',max_depth = 41,oob_score = True,n_estimators =400,\n",
    "                           max_features ='sqrt')\n",
    "#clfForest = RandomForest(class_weight='balanced',oob_score= True)\n",
    "clfForest=clfForest.fit(x_train, y_train)\n",
    "y_pred=clfForest.predict(x_train)\n",
    "score=clfForest.score(x_train,y_train)\n",
    "print score\n",
    "print y_pred.shape\n",
    "print y_train.shape\n",
    "print confusion_matrix(y_train, y_pred)\n",
    "print(classification_report(y_train, y_pred,target_names =target_names))\n",
    "cm = confusion_matrix(y_train,y_pred)\n",
    "print \"Train data Accuracy on Low price category:\" , cm[0,0]/(np.sum(cm[0]) *1.0)\n",
    "print \"Train data Accuracy on Mid price category: \" , cm[1,1]/(np.sum(cm[1]) *1.0)\n",
    "print \"Train data Accuracy on HIgh price category: \" , cm[2,2]/(np.sum(cm[2]) *1.0)\n",
    "y_pred_test=clfForest.predict(x_test)\n",
    "score=clfForest.score(x_test,y_test)\n",
    "print score\n",
    "cm = confusion_matrix(y_test,y_pred_test)\n",
    "print confusion_matrix(y_test,y_pred_test)\n",
    "print classification_report(y_test, y_pred_test,target_names =target_names)\n",
    "print \"Test data Accuracy on Low price category: \" , cm[0,0]/(np.sum(cm[0]) *1.0)\n",
    "print \"Test data Accuracy on Mid price category: \" , cm[1,1]/(np.sum(cm[1]) *1.0)\n",
    "print \"Test data Accuracy on High price category: \" , cm[2,2]/(np.sum(cm[2]) *1.0)\n",
    "\n",
    "\n"
   ]
  },
  {
   "cell_type": "markdown",
   "metadata": {},
   "source": [
    "The overall Accuracy , class accuracies have been improved from the previous model. One more thing not to overlook is the fact that the precision , recall and f1-scores for all 3 classes are very good to consider this a nice model"
   ]
  },
  {
   "cell_type": "markdown",
   "metadata": {},
   "source": [
    "\n",
    "### Goodness of the fit (ROC curve)\n",
    "\n",
    "Lets check the goodness of the this model fit to see if the model that we built is a reasonable model to be used. For this lets build the ROC curve for this model. However here ,we have 3 classes ,so lets get a ROC curve for every class against the rest of the classes and see how this model performed on each class"
   ]
  },
  {
   "cell_type": "code",
   "execution_count": 142,
   "metadata": {
    "collapsed": false
   },
   "outputs": [
    {
     "data": {
      "image/png": "[encoded data removed]",
      "text/plain": [
       "<matplotlib.figure.Figure at 0x5d0a5d68>"
      ]
     },
     "metadata": {},
     "output_type": "display_data"
    }
   ],
   "source": [
    "fig = plt.figure(figsize=(20,15))\n",
    "ax1 = fig.add_subplot(221)\n",
    "ax1.plot([0, 1], [0, 1], 'k--')\n",
    "ax2 = fig.add_subplot(222)\n",
    "ax2.plot([0, 1], [0, 1], 'k--')\n",
    "\n",
    "clfForest = RandomForest(class_weight ='balanced',max_depth = 41, oob_score = True,n_estimators =400,\n",
    "                         criterion ='gini' , max_features ='sqrt')\n",
    "color =['r','b','g']\n",
    "clfForest = clfForest.fit(x_train, y_train)\n",
    "for i in range(3):\n",
    "    \n",
    "    y_pred_rf = rf.predict_proba(x_test)[:, i]\n",
    "    fpr_rf, tpr_rf, _ = roc_curve(y_test, y_pred_rf,pos_label=i)\n",
    "    ax1.plot(fpr_rf, tpr_rf, label='class' + str(i), color=color[i])\n",
    "    ax2.plot(fpr_rf, tpr_rf, label='class' + str(i), color=color[i])\n",
    "    \n",
    "ax1.set_xlabel('False positive rate')\n",
    "ax2.set_xlabel('False positive rate')\n",
    "ax1.set_ylabel('True positive rate')\n",
    "ax2.set_ylabel('True positive rate')\n",
    "ax1.set_title('ROC curve')\n",
    "ax2.set_title('Zoomed ROC curve')\n",
    "ax1.legend(loc='best')\n",
    "ax2.legend(loc='right')\n",
    "ax2.set_ylim(0.7,1)\n",
    "ax2.set_xlim(0,0.5)\n",
    "plt.show()\n",
    "    "
   ]
  },
  {
   "cell_type": "code",
   "execution_count": null,
   "metadata": {
    "collapsed": true
   },
   "outputs": [],
   "source": []
  }
 ],
 "metadata": {
  "anaconda-cloud": {},
  "kernelspec": {
   "display_name": "Python [conda root]",
   "language": "python",
   "name": "conda-root-py"
  },
  "language_info": {
   "codemirror_mode": {
    "name": "ipython",
    "version": 2
   },
   "file_extension": ".py",
   "mimetype": "text/x-python",
   "name": "python",
   "nbconvert_exporter": "python",
   "pygments_lexer": "ipython2",
   "version": "2.7.12"
  }
 },
 "nbformat": 4,
 "nbformat_minor": 0
}
